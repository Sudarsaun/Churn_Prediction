{
 "cells": [
  {
   "cell_type": "code",
   "execution_count": 2,
   "metadata": {},
   "outputs": [],
   "source": [
    "import pandas as pd\n",
    "import numpy as np\n",
    "import seaborn as sns\n",
    "import matplotlib.pyplot as plt\n",
    "%matplotlib inline\n",
    "import math, time, random, datetime\n",
    "import warnings\n",
    "warnings.filterwarnings(\"ignore\")"
   ]
  },
  {
   "cell_type": "code",
   "execution_count": 3,
   "metadata": {},
   "outputs": [],
   "source": [
    "cust_data = pd.read_csv(\"ml_case_training_data.csv\")\n",
    "cust_churn = pd.read_csv(\"ml_case_training_output.csv\")\n",
    "cust_pay = pd.read_csv(\"ml_case_training_hist_data.csv\")"
   ]
  },
  {
   "cell_type": "code",
   "execution_count": 4,
   "metadata": {},
   "outputs": [],
   "source": [
    "# Make a copy of the origial data\n",
    "copy_cust_data = cust_data\n",
    "copy_cust_churn = cust_churn\n",
    "copy_cust_pay = cust_pay"
   ]
  },
  {
   "cell_type": "code",
   "execution_count": 5,
   "metadata": {},
   "outputs": [
    {
     "name": "stdout",
     "output_type": "stream",
     "text": [
      "Cloumns in the dataset: Index(['id', 'activity_new', 'campaign_disc_ele', 'channel_sales', 'cons_12m',\n",
      "       'cons_gas_12m', 'cons_last_month', 'date_activ', 'date_end',\n",
      "       'date_first_activ', 'date_modif_prod', 'date_renewal',\n",
      "       'forecast_base_bill_ele', 'forecast_base_bill_year',\n",
      "       'forecast_bill_12m', 'forecast_cons', 'forecast_cons_12m',\n",
      "       'forecast_cons_year', 'forecast_discount_energy',\n",
      "       'forecast_meter_rent_12m', 'forecast_price_energy_p1',\n",
      "       'forecast_price_energy_p2', 'forecast_price_pow_p1', 'has_gas',\n",
      "       'imp_cons', 'margin_gross_pow_ele', 'margin_net_pow_ele', 'nb_prod_act',\n",
      "       'net_margin', 'num_years_antig', 'origin_up', 'pow_max'],\n",
      "      dtype='object')\n",
      "Columns in the churn indicator: Index(['id', 'churn'], dtype='object')\n"
     ]
    }
   ],
   "source": [
    "# Features the dataset\n",
    "print(\"Cloumns in the dataset:\", cust_data.columns)\n",
    "print(\"Columns in the churn indicator:\", cust_churn.columns)"
   ]
  },
  {
   "cell_type": "code",
   "execution_count": 6,
   "metadata": {},
   "outputs": [
    {
     "data": {
      "text/plain": [
       "id                           object\n",
       "activity_new                 object\n",
       "campaign_disc_ele           float64\n",
       "channel_sales                object\n",
       "cons_12m                      int64\n",
       "cons_gas_12m                  int64\n",
       "cons_last_month               int64\n",
       "date_activ                   object\n",
       "date_end                     object\n",
       "date_first_activ             object\n",
       "date_modif_prod              object\n",
       "date_renewal                 object\n",
       "forecast_base_bill_ele      float64\n",
       "forecast_base_bill_year     float64\n",
       "forecast_bill_12m           float64\n",
       "forecast_cons               float64\n",
       "forecast_cons_12m           float64\n",
       "forecast_cons_year            int64\n",
       "forecast_discount_energy    float64\n",
       "forecast_meter_rent_12m     float64\n",
       "forecast_price_energy_p1    float64\n",
       "forecast_price_energy_p2    float64\n",
       "forecast_price_pow_p1       float64\n",
       "has_gas                      object\n",
       "imp_cons                    float64\n",
       "margin_gross_pow_ele        float64\n",
       "margin_net_pow_ele          float64\n",
       "nb_prod_act                   int64\n",
       "net_margin                  float64\n",
       "num_years_antig               int64\n",
       "origin_up                    object\n",
       "pow_max                     float64\n",
       "dtype: object"
      ]
     },
     "execution_count": 6,
     "metadata": {},
     "output_type": "execute_result"
    }
   ],
   "source": [
    "# Datatypes in the dataset\n",
    "cust_data.dtypes"
   ]
  },
  {
   "cell_type": "code",
   "execution_count": 7,
   "metadata": {},
   "outputs": [
    {
     "data": {
      "text/plain": [
       "id       object\n",
       "churn     int64\n",
       "dtype: object"
      ]
     },
     "execution_count": 7,
     "metadata": {},
     "output_type": "execute_result"
    }
   ],
   "source": [
    "cust_churn.dtypes"
   ]
  },
  {
   "cell_type": "code",
   "execution_count": 8,
   "metadata": {},
   "outputs": [
    {
     "data": {
      "text/plain": [
       "id               object\n",
       "price_date       object\n",
       "price_p1_var    float64\n",
       "price_p2_var    float64\n",
       "price_p3_var    float64\n",
       "price_p1_fix    float64\n",
       "price_p2_fix    float64\n",
       "price_p3_fix    float64\n",
       "dtype: object"
      ]
     },
     "execution_count": 8,
     "metadata": {},
     "output_type": "execute_result"
    }
   ],
   "source": [
    "copy_cust_pay.dtypes"
   ]
  },
  {
   "cell_type": "code",
   "execution_count": 9,
   "metadata": {},
   "outputs": [
    {
     "data": {
      "text/html": [
       "<div>\n",
       "<style scoped>\n",
       "    .dataframe tbody tr th:only-of-type {\n",
       "        vertical-align: middle;\n",
       "    }\n",
       "\n",
       "    .dataframe tbody tr th {\n",
       "        vertical-align: top;\n",
       "    }\n",
       "\n",
       "    .dataframe thead th {\n",
       "        text-align: right;\n",
       "    }\n",
       "</style>\n",
       "<table border=\"1\" class=\"dataframe\">\n",
       "  <thead>\n",
       "    <tr style=\"text-align: right;\">\n",
       "      <th></th>\n",
       "      <th>id</th>\n",
       "      <th>activity_new</th>\n",
       "      <th>campaign_disc_ele</th>\n",
       "      <th>channel_sales</th>\n",
       "      <th>cons_12m</th>\n",
       "      <th>cons_gas_12m</th>\n",
       "      <th>cons_last_month</th>\n",
       "      <th>date_activ</th>\n",
       "      <th>date_end</th>\n",
       "      <th>date_first_activ</th>\n",
       "      <th>...</th>\n",
       "      <th>forecast_price_pow_p1</th>\n",
       "      <th>has_gas</th>\n",
       "      <th>imp_cons</th>\n",
       "      <th>margin_gross_pow_ele</th>\n",
       "      <th>margin_net_pow_ele</th>\n",
       "      <th>nb_prod_act</th>\n",
       "      <th>net_margin</th>\n",
       "      <th>num_years_antig</th>\n",
       "      <th>origin_up</th>\n",
       "      <th>pow_max</th>\n",
       "    </tr>\n",
       "  </thead>\n",
       "  <tbody>\n",
       "    <tr>\n",
       "      <th>0</th>\n",
       "      <td>48ada52261e7cf58715202705a0451c9</td>\n",
       "      <td>esoiiifxdlbkcsluxmfuacbdckommixw</td>\n",
       "      <td>NaN</td>\n",
       "      <td>lmkebamcaaclubfxadlmueccxoimlema</td>\n",
       "      <td>309275</td>\n",
       "      <td>0</td>\n",
       "      <td>10025</td>\n",
       "      <td>2012-11-07</td>\n",
       "      <td>2016-11-06</td>\n",
       "      <td>NaN</td>\n",
       "      <td>...</td>\n",
       "      <td>58.995952</td>\n",
       "      <td>f</td>\n",
       "      <td>831.8</td>\n",
       "      <td>-41.76</td>\n",
       "      <td>-41.76</td>\n",
       "      <td>1</td>\n",
       "      <td>1732.36</td>\n",
       "      <td>3</td>\n",
       "      <td>ldkssxwpmemidmecebumciepifcamkci</td>\n",
       "      <td>180.000</td>\n",
       "    </tr>\n",
       "    <tr>\n",
       "      <th>1</th>\n",
       "      <td>24011ae4ebbe3035111d65fa7c15bc57</td>\n",
       "      <td>NaN</td>\n",
       "      <td>NaN</td>\n",
       "      <td>foosdfpfkusacimwkcsosbicdxkicaua</td>\n",
       "      <td>0</td>\n",
       "      <td>54946</td>\n",
       "      <td>0</td>\n",
       "      <td>2013-06-15</td>\n",
       "      <td>2016-06-15</td>\n",
       "      <td>NaN</td>\n",
       "      <td>...</td>\n",
       "      <td>40.606701</td>\n",
       "      <td>t</td>\n",
       "      <td>0.0</td>\n",
       "      <td>25.44</td>\n",
       "      <td>25.44</td>\n",
       "      <td>2</td>\n",
       "      <td>678.99</td>\n",
       "      <td>3</td>\n",
       "      <td>lxidpiddsbxsbosboudacockeimpuepw</td>\n",
       "      <td>43.648</td>\n",
       "    </tr>\n",
       "    <tr>\n",
       "      <th>2</th>\n",
       "      <td>d29c2c54acc38ff3c0614d0a653813dd</td>\n",
       "      <td>NaN</td>\n",
       "      <td>NaN</td>\n",
       "      <td>NaN</td>\n",
       "      <td>4660</td>\n",
       "      <td>0</td>\n",
       "      <td>0</td>\n",
       "      <td>2009-08-21</td>\n",
       "      <td>2016-08-30</td>\n",
       "      <td>NaN</td>\n",
       "      <td>...</td>\n",
       "      <td>44.311378</td>\n",
       "      <td>f</td>\n",
       "      <td>0.0</td>\n",
       "      <td>16.38</td>\n",
       "      <td>16.38</td>\n",
       "      <td>1</td>\n",
       "      <td>18.89</td>\n",
       "      <td>6</td>\n",
       "      <td>kamkkxfxxuwbdslkwifmmcsiusiuosws</td>\n",
       "      <td>13.800</td>\n",
       "    </tr>\n",
       "    <tr>\n",
       "      <th>3</th>\n",
       "      <td>764c75f661154dac3a6c254cd082ea7d</td>\n",
       "      <td>NaN</td>\n",
       "      <td>NaN</td>\n",
       "      <td>foosdfpfkusacimwkcsosbicdxkicaua</td>\n",
       "      <td>544</td>\n",
       "      <td>0</td>\n",
       "      <td>0</td>\n",
       "      <td>2010-04-16</td>\n",
       "      <td>2016-04-16</td>\n",
       "      <td>NaN</td>\n",
       "      <td>...</td>\n",
       "      <td>44.311378</td>\n",
       "      <td>f</td>\n",
       "      <td>0.0</td>\n",
       "      <td>28.60</td>\n",
       "      <td>28.60</td>\n",
       "      <td>1</td>\n",
       "      <td>6.60</td>\n",
       "      <td>6</td>\n",
       "      <td>kamkkxfxxuwbdslkwifmmcsiusiuosws</td>\n",
       "      <td>13.856</td>\n",
       "    </tr>\n",
       "    <tr>\n",
       "      <th>4</th>\n",
       "      <td>bba03439a292a1e166f80264c16191cb</td>\n",
       "      <td>NaN</td>\n",
       "      <td>NaN</td>\n",
       "      <td>lmkebamcaaclubfxadlmueccxoimlema</td>\n",
       "      <td>1584</td>\n",
       "      <td>0</td>\n",
       "      <td>0</td>\n",
       "      <td>2010-03-30</td>\n",
       "      <td>2016-03-30</td>\n",
       "      <td>NaN</td>\n",
       "      <td>...</td>\n",
       "      <td>44.311378</td>\n",
       "      <td>f</td>\n",
       "      <td>0.0</td>\n",
       "      <td>30.22</td>\n",
       "      <td>30.22</td>\n",
       "      <td>1</td>\n",
       "      <td>25.46</td>\n",
       "      <td>6</td>\n",
       "      <td>kamkkxfxxuwbdslkwifmmcsiusiuosws</td>\n",
       "      <td>13.200</td>\n",
       "    </tr>\n",
       "  </tbody>\n",
       "</table>\n",
       "<p>5 rows × 32 columns</p>\n",
       "</div>"
      ],
      "text/plain": [
       "                                 id                      activity_new  \\\n",
       "0  48ada52261e7cf58715202705a0451c9  esoiiifxdlbkcsluxmfuacbdckommixw   \n",
       "1  24011ae4ebbe3035111d65fa7c15bc57                               NaN   \n",
       "2  d29c2c54acc38ff3c0614d0a653813dd                               NaN   \n",
       "3  764c75f661154dac3a6c254cd082ea7d                               NaN   \n",
       "4  bba03439a292a1e166f80264c16191cb                               NaN   \n",
       "\n",
       "   campaign_disc_ele                     channel_sales  cons_12m  \\\n",
       "0                NaN  lmkebamcaaclubfxadlmueccxoimlema    309275   \n",
       "1                NaN  foosdfpfkusacimwkcsosbicdxkicaua         0   \n",
       "2                NaN                               NaN      4660   \n",
       "3                NaN  foosdfpfkusacimwkcsosbicdxkicaua       544   \n",
       "4                NaN  lmkebamcaaclubfxadlmueccxoimlema      1584   \n",
       "\n",
       "   cons_gas_12m  cons_last_month  date_activ    date_end date_first_activ  \\\n",
       "0             0            10025  2012-11-07  2016-11-06              NaN   \n",
       "1         54946                0  2013-06-15  2016-06-15              NaN   \n",
       "2             0                0  2009-08-21  2016-08-30              NaN   \n",
       "3             0                0  2010-04-16  2016-04-16              NaN   \n",
       "4             0                0  2010-03-30  2016-03-30              NaN   \n",
       "\n",
       "   ... forecast_price_pow_p1 has_gas  imp_cons  margin_gross_pow_ele  \\\n",
       "0  ...             58.995952       f     831.8                -41.76   \n",
       "1  ...             40.606701       t       0.0                 25.44   \n",
       "2  ...             44.311378       f       0.0                 16.38   \n",
       "3  ...             44.311378       f       0.0                 28.60   \n",
       "4  ...             44.311378       f       0.0                 30.22   \n",
       "\n",
       "   margin_net_pow_ele  nb_prod_act  net_margin  num_years_antig  \\\n",
       "0              -41.76            1     1732.36                3   \n",
       "1               25.44            2      678.99                3   \n",
       "2               16.38            1       18.89                6   \n",
       "3               28.60            1        6.60                6   \n",
       "4               30.22            1       25.46                6   \n",
       "\n",
       "                          origin_up  pow_max  \n",
       "0  ldkssxwpmemidmecebumciepifcamkci  180.000  \n",
       "1  lxidpiddsbxsbosboudacockeimpuepw   43.648  \n",
       "2  kamkkxfxxuwbdslkwifmmcsiusiuosws   13.800  \n",
       "3  kamkkxfxxuwbdslkwifmmcsiusiuosws   13.856  \n",
       "4  kamkkxfxxuwbdslkwifmmcsiusiuosws   13.200  \n",
       "\n",
       "[5 rows x 32 columns]"
      ]
     },
     "execution_count": 9,
     "metadata": {},
     "output_type": "execute_result"
    }
   ],
   "source": [
    "cust_data.head()"
   ]
  },
  {
   "cell_type": "code",
   "execution_count": 10,
   "metadata": {},
   "outputs": [
    {
     "data": {
      "text/html": [
       "<div>\n",
       "<style scoped>\n",
       "    .dataframe tbody tr th:only-of-type {\n",
       "        vertical-align: middle;\n",
       "    }\n",
       "\n",
       "    .dataframe tbody tr th {\n",
       "        vertical-align: top;\n",
       "    }\n",
       "\n",
       "    .dataframe thead th {\n",
       "        text-align: right;\n",
       "    }\n",
       "</style>\n",
       "<table border=\"1\" class=\"dataframe\">\n",
       "  <thead>\n",
       "    <tr style=\"text-align: right;\">\n",
       "      <th></th>\n",
       "      <th>id</th>\n",
       "      <th>churn</th>\n",
       "    </tr>\n",
       "  </thead>\n",
       "  <tbody>\n",
       "    <tr>\n",
       "      <th>0</th>\n",
       "      <td>48ada52261e7cf58715202705a0451c9</td>\n",
       "      <td>0</td>\n",
       "    </tr>\n",
       "    <tr>\n",
       "      <th>1</th>\n",
       "      <td>24011ae4ebbe3035111d65fa7c15bc57</td>\n",
       "      <td>1</td>\n",
       "    </tr>\n",
       "    <tr>\n",
       "      <th>2</th>\n",
       "      <td>d29c2c54acc38ff3c0614d0a653813dd</td>\n",
       "      <td>0</td>\n",
       "    </tr>\n",
       "    <tr>\n",
       "      <th>3</th>\n",
       "      <td>764c75f661154dac3a6c254cd082ea7d</td>\n",
       "      <td>0</td>\n",
       "    </tr>\n",
       "    <tr>\n",
       "      <th>4</th>\n",
       "      <td>bba03439a292a1e166f80264c16191cb</td>\n",
       "      <td>0</td>\n",
       "    </tr>\n",
       "  </tbody>\n",
       "</table>\n",
       "</div>"
      ],
      "text/plain": [
       "                                 id  churn\n",
       "0  48ada52261e7cf58715202705a0451c9      0\n",
       "1  24011ae4ebbe3035111d65fa7c15bc57      1\n",
       "2  d29c2c54acc38ff3c0614d0a653813dd      0\n",
       "3  764c75f661154dac3a6c254cd082ea7d      0\n",
       "4  bba03439a292a1e166f80264c16191cb      0"
      ]
     },
     "execution_count": 10,
     "metadata": {},
     "output_type": "execute_result"
    }
   ],
   "source": [
    "cust_churn.head()"
   ]
  },
  {
   "cell_type": "markdown",
   "metadata": {},
   "source": [
    "As we can see that the Customer ID is same for both cust_data, cust_churn. We can merge these two tables using the Customer ID then we can see whether the customer is churned or not. But before merging we will see whether there are any null or missing values"
   ]
  },
  {
   "cell_type": "code",
   "execution_count": 11,
   "metadata": {},
   "outputs": [
    {
     "data": {
      "text/plain": [
       "id                              0\n",
       "activity_new                 9545\n",
       "campaign_disc_ele           16096\n",
       "channel_sales                4218\n",
       "cons_12m                        0\n",
       "cons_gas_12m                    0\n",
       "cons_last_month                 0\n",
       "date_activ                      0\n",
       "date_end                        2\n",
       "date_first_activ            12588\n",
       "date_modif_prod               157\n",
       "date_renewal                   40\n",
       "forecast_base_bill_ele      12588\n",
       "forecast_base_bill_year     12588\n",
       "forecast_bill_12m           12588\n",
       "forecast_cons               12588\n",
       "forecast_cons_12m               0\n",
       "forecast_cons_year              0\n",
       "forecast_discount_energy      126\n",
       "forecast_meter_rent_12m         0\n",
       "forecast_price_energy_p1      126\n",
       "forecast_price_energy_p2      126\n",
       "forecast_price_pow_p1         126\n",
       "has_gas                         0\n",
       "imp_cons                        0\n",
       "margin_gross_pow_ele           13\n",
       "margin_net_pow_ele             13\n",
       "nb_prod_act                     0\n",
       "net_margin                     15\n",
       "num_years_antig                 0\n",
       "origin_up                      87\n",
       "pow_max                         3\n",
       "dtype: int64"
      ]
     },
     "execution_count": 11,
     "metadata": {},
     "output_type": "execute_result"
    }
   ],
   "source": [
    "cust_data.isnull().sum()"
   ]
  },
  {
   "cell_type": "code",
   "execution_count": 12,
   "metadata": {},
   "outputs": [
    {
     "data": {
      "text/plain": [
       "id       0\n",
       "churn    0\n",
       "dtype: int64"
      ]
     },
     "execution_count": 12,
     "metadata": {},
     "output_type": "execute_result"
    }
   ],
   "source": [
    "cust_churn.isnull().sum()"
   ]
  },
  {
   "cell_type": "markdown",
   "metadata": {},
   "source": [
    "So two datasets have no null or missing values in Customer ID and churn columns, so now we can merge the datasets"
   ]
  },
  {
   "cell_type": "code",
   "execution_count": 13,
   "metadata": {},
   "outputs": [],
   "source": [
    "cust_final_data= pd.merge(cust_data,cust_churn, on='id')"
   ]
  },
  {
   "cell_type": "code",
   "execution_count": 14,
   "metadata": {},
   "outputs": [
    {
     "data": {
      "text/html": [
       "<div>\n",
       "<style scoped>\n",
       "    .dataframe tbody tr th:only-of-type {\n",
       "        vertical-align: middle;\n",
       "    }\n",
       "\n",
       "    .dataframe tbody tr th {\n",
       "        vertical-align: top;\n",
       "    }\n",
       "\n",
       "    .dataframe thead th {\n",
       "        text-align: right;\n",
       "    }\n",
       "</style>\n",
       "<table border=\"1\" class=\"dataframe\">\n",
       "  <thead>\n",
       "    <tr style=\"text-align: right;\">\n",
       "      <th></th>\n",
       "      <th>id</th>\n",
       "      <th>activity_new</th>\n",
       "      <th>campaign_disc_ele</th>\n",
       "      <th>channel_sales</th>\n",
       "      <th>cons_12m</th>\n",
       "      <th>cons_gas_12m</th>\n",
       "      <th>cons_last_month</th>\n",
       "      <th>date_activ</th>\n",
       "      <th>date_end</th>\n",
       "      <th>date_first_activ</th>\n",
       "      <th>...</th>\n",
       "      <th>has_gas</th>\n",
       "      <th>imp_cons</th>\n",
       "      <th>margin_gross_pow_ele</th>\n",
       "      <th>margin_net_pow_ele</th>\n",
       "      <th>nb_prod_act</th>\n",
       "      <th>net_margin</th>\n",
       "      <th>num_years_antig</th>\n",
       "      <th>origin_up</th>\n",
       "      <th>pow_max</th>\n",
       "      <th>churn</th>\n",
       "    </tr>\n",
       "  </thead>\n",
       "  <tbody>\n",
       "    <tr>\n",
       "      <th>0</th>\n",
       "      <td>48ada52261e7cf58715202705a0451c9</td>\n",
       "      <td>esoiiifxdlbkcsluxmfuacbdckommixw</td>\n",
       "      <td>NaN</td>\n",
       "      <td>lmkebamcaaclubfxadlmueccxoimlema</td>\n",
       "      <td>309275</td>\n",
       "      <td>0</td>\n",
       "      <td>10025</td>\n",
       "      <td>2012-11-07</td>\n",
       "      <td>2016-11-06</td>\n",
       "      <td>NaN</td>\n",
       "      <td>...</td>\n",
       "      <td>f</td>\n",
       "      <td>831.80</td>\n",
       "      <td>-41.76</td>\n",
       "      <td>-41.76</td>\n",
       "      <td>1</td>\n",
       "      <td>1732.36</td>\n",
       "      <td>3</td>\n",
       "      <td>ldkssxwpmemidmecebumciepifcamkci</td>\n",
       "      <td>180.000</td>\n",
       "      <td>0</td>\n",
       "    </tr>\n",
       "    <tr>\n",
       "      <th>1</th>\n",
       "      <td>24011ae4ebbe3035111d65fa7c15bc57</td>\n",
       "      <td>NaN</td>\n",
       "      <td>NaN</td>\n",
       "      <td>foosdfpfkusacimwkcsosbicdxkicaua</td>\n",
       "      <td>0</td>\n",
       "      <td>54946</td>\n",
       "      <td>0</td>\n",
       "      <td>2013-06-15</td>\n",
       "      <td>2016-06-15</td>\n",
       "      <td>NaN</td>\n",
       "      <td>...</td>\n",
       "      <td>t</td>\n",
       "      <td>0.00</td>\n",
       "      <td>25.44</td>\n",
       "      <td>25.44</td>\n",
       "      <td>2</td>\n",
       "      <td>678.99</td>\n",
       "      <td>3</td>\n",
       "      <td>lxidpiddsbxsbosboudacockeimpuepw</td>\n",
       "      <td>43.648</td>\n",
       "      <td>1</td>\n",
       "    </tr>\n",
       "    <tr>\n",
       "      <th>2</th>\n",
       "      <td>d29c2c54acc38ff3c0614d0a653813dd</td>\n",
       "      <td>NaN</td>\n",
       "      <td>NaN</td>\n",
       "      <td>NaN</td>\n",
       "      <td>4660</td>\n",
       "      <td>0</td>\n",
       "      <td>0</td>\n",
       "      <td>2009-08-21</td>\n",
       "      <td>2016-08-30</td>\n",
       "      <td>NaN</td>\n",
       "      <td>...</td>\n",
       "      <td>f</td>\n",
       "      <td>0.00</td>\n",
       "      <td>16.38</td>\n",
       "      <td>16.38</td>\n",
       "      <td>1</td>\n",
       "      <td>18.89</td>\n",
       "      <td>6</td>\n",
       "      <td>kamkkxfxxuwbdslkwifmmcsiusiuosws</td>\n",
       "      <td>13.800</td>\n",
       "      <td>0</td>\n",
       "    </tr>\n",
       "    <tr>\n",
       "      <th>3</th>\n",
       "      <td>764c75f661154dac3a6c254cd082ea7d</td>\n",
       "      <td>NaN</td>\n",
       "      <td>NaN</td>\n",
       "      <td>foosdfpfkusacimwkcsosbicdxkicaua</td>\n",
       "      <td>544</td>\n",
       "      <td>0</td>\n",
       "      <td>0</td>\n",
       "      <td>2010-04-16</td>\n",
       "      <td>2016-04-16</td>\n",
       "      <td>NaN</td>\n",
       "      <td>...</td>\n",
       "      <td>f</td>\n",
       "      <td>0.00</td>\n",
       "      <td>28.60</td>\n",
       "      <td>28.60</td>\n",
       "      <td>1</td>\n",
       "      <td>6.60</td>\n",
       "      <td>6</td>\n",
       "      <td>kamkkxfxxuwbdslkwifmmcsiusiuosws</td>\n",
       "      <td>13.856</td>\n",
       "      <td>0</td>\n",
       "    </tr>\n",
       "    <tr>\n",
       "      <th>4</th>\n",
       "      <td>bba03439a292a1e166f80264c16191cb</td>\n",
       "      <td>NaN</td>\n",
       "      <td>NaN</td>\n",
       "      <td>lmkebamcaaclubfxadlmueccxoimlema</td>\n",
       "      <td>1584</td>\n",
       "      <td>0</td>\n",
       "      <td>0</td>\n",
       "      <td>2010-03-30</td>\n",
       "      <td>2016-03-30</td>\n",
       "      <td>NaN</td>\n",
       "      <td>...</td>\n",
       "      <td>f</td>\n",
       "      <td>0.00</td>\n",
       "      <td>30.22</td>\n",
       "      <td>30.22</td>\n",
       "      <td>1</td>\n",
       "      <td>25.46</td>\n",
       "      <td>6</td>\n",
       "      <td>kamkkxfxxuwbdslkwifmmcsiusiuosws</td>\n",
       "      <td>13.200</td>\n",
       "      <td>0</td>\n",
       "    </tr>\n",
       "    <tr>\n",
       "      <th>...</th>\n",
       "      <td>...</td>\n",
       "      <td>...</td>\n",
       "      <td>...</td>\n",
       "      <td>...</td>\n",
       "      <td>...</td>\n",
       "      <td>...</td>\n",
       "      <td>...</td>\n",
       "      <td>...</td>\n",
       "      <td>...</td>\n",
       "      <td>...</td>\n",
       "      <td>...</td>\n",
       "      <td>...</td>\n",
       "      <td>...</td>\n",
       "      <td>...</td>\n",
       "      <td>...</td>\n",
       "      <td>...</td>\n",
       "      <td>...</td>\n",
       "      <td>...</td>\n",
       "      <td>...</td>\n",
       "      <td>...</td>\n",
       "      <td>...</td>\n",
       "    </tr>\n",
       "    <tr>\n",
       "      <th>16091</th>\n",
       "      <td>18463073fb097fc0ac5d3e040f356987</td>\n",
       "      <td>NaN</td>\n",
       "      <td>NaN</td>\n",
       "      <td>foosdfpfkusacimwkcsosbicdxkicaua</td>\n",
       "      <td>32270</td>\n",
       "      <td>47940</td>\n",
       "      <td>0</td>\n",
       "      <td>2012-05-24</td>\n",
       "      <td>2016-05-08</td>\n",
       "      <td>NaN</td>\n",
       "      <td>...</td>\n",
       "      <td>t</td>\n",
       "      <td>0.00</td>\n",
       "      <td>27.88</td>\n",
       "      <td>27.88</td>\n",
       "      <td>2</td>\n",
       "      <td>381.77</td>\n",
       "      <td>4</td>\n",
       "      <td>lxidpiddsbxsbosboudacockeimpuepw</td>\n",
       "      <td>15.000</td>\n",
       "      <td>0</td>\n",
       "    </tr>\n",
       "    <tr>\n",
       "      <th>16092</th>\n",
       "      <td>d0a6f71671571ed83b2645d23af6de00</td>\n",
       "      <td>NaN</td>\n",
       "      <td>NaN</td>\n",
       "      <td>foosdfpfkusacimwkcsosbicdxkicaua</td>\n",
       "      <td>7223</td>\n",
       "      <td>0</td>\n",
       "      <td>181</td>\n",
       "      <td>2012-08-27</td>\n",
       "      <td>2016-08-27</td>\n",
       "      <td>2012-08-27</td>\n",
       "      <td>...</td>\n",
       "      <td>f</td>\n",
       "      <td>15.94</td>\n",
       "      <td>0.00</td>\n",
       "      <td>0.00</td>\n",
       "      <td>1</td>\n",
       "      <td>90.34</td>\n",
       "      <td>3</td>\n",
       "      <td>lxidpiddsbxsbosboudacockeimpuepw</td>\n",
       "      <td>6.000</td>\n",
       "      <td>1</td>\n",
       "    </tr>\n",
       "    <tr>\n",
       "      <th>16093</th>\n",
       "      <td>10e6828ddd62cbcf687cb74928c4c2d2</td>\n",
       "      <td>NaN</td>\n",
       "      <td>NaN</td>\n",
       "      <td>foosdfpfkusacimwkcsosbicdxkicaua</td>\n",
       "      <td>1844</td>\n",
       "      <td>0</td>\n",
       "      <td>179</td>\n",
       "      <td>2012-02-08</td>\n",
       "      <td>2016-02-07</td>\n",
       "      <td>NaN</td>\n",
       "      <td>...</td>\n",
       "      <td>f</td>\n",
       "      <td>18.05</td>\n",
       "      <td>39.84</td>\n",
       "      <td>39.84</td>\n",
       "      <td>1</td>\n",
       "      <td>20.38</td>\n",
       "      <td>4</td>\n",
       "      <td>lxidpiddsbxsbosboudacockeimpuepw</td>\n",
       "      <td>15.935</td>\n",
       "      <td>1</td>\n",
       "    </tr>\n",
       "    <tr>\n",
       "      <th>16094</th>\n",
       "      <td>1cf20fd6206d7678d5bcafd28c53b4db</td>\n",
       "      <td>NaN</td>\n",
       "      <td>NaN</td>\n",
       "      <td>foosdfpfkusacimwkcsosbicdxkicaua</td>\n",
       "      <td>131</td>\n",
       "      <td>0</td>\n",
       "      <td>0</td>\n",
       "      <td>2012-08-30</td>\n",
       "      <td>2016-08-30</td>\n",
       "      <td>NaN</td>\n",
       "      <td>...</td>\n",
       "      <td>f</td>\n",
       "      <td>0.00</td>\n",
       "      <td>13.08</td>\n",
       "      <td>13.08</td>\n",
       "      <td>1</td>\n",
       "      <td>0.96</td>\n",
       "      <td>3</td>\n",
       "      <td>lxidpiddsbxsbosboudacockeimpuepw</td>\n",
       "      <td>11.000</td>\n",
       "      <td>0</td>\n",
       "    </tr>\n",
       "    <tr>\n",
       "      <th>16095</th>\n",
       "      <td>563dde550fd624d7352f3de77c0cdfcd</td>\n",
       "      <td>NaN</td>\n",
       "      <td>NaN</td>\n",
       "      <td>NaN</td>\n",
       "      <td>8730</td>\n",
       "      <td>0</td>\n",
       "      <td>0</td>\n",
       "      <td>2009-12-18</td>\n",
       "      <td>2016-12-17</td>\n",
       "      <td>NaN</td>\n",
       "      <td>...</td>\n",
       "      <td>f</td>\n",
       "      <td>0.00</td>\n",
       "      <td>11.84</td>\n",
       "      <td>11.84</td>\n",
       "      <td>1</td>\n",
       "      <td>96.34</td>\n",
       "      <td>6</td>\n",
       "      <td>ldkssxwpmemidmecebumciepifcamkci</td>\n",
       "      <td>10.392</td>\n",
       "      <td>0</td>\n",
       "    </tr>\n",
       "  </tbody>\n",
       "</table>\n",
       "<p>16096 rows × 33 columns</p>\n",
       "</div>"
      ],
      "text/plain": [
       "                                     id                      activity_new  \\\n",
       "0      48ada52261e7cf58715202705a0451c9  esoiiifxdlbkcsluxmfuacbdckommixw   \n",
       "1      24011ae4ebbe3035111d65fa7c15bc57                               NaN   \n",
       "2      d29c2c54acc38ff3c0614d0a653813dd                               NaN   \n",
       "3      764c75f661154dac3a6c254cd082ea7d                               NaN   \n",
       "4      bba03439a292a1e166f80264c16191cb                               NaN   \n",
       "...                                 ...                               ...   \n",
       "16091  18463073fb097fc0ac5d3e040f356987                               NaN   \n",
       "16092  d0a6f71671571ed83b2645d23af6de00                               NaN   \n",
       "16093  10e6828ddd62cbcf687cb74928c4c2d2                               NaN   \n",
       "16094  1cf20fd6206d7678d5bcafd28c53b4db                               NaN   \n",
       "16095  563dde550fd624d7352f3de77c0cdfcd                               NaN   \n",
       "\n",
       "       campaign_disc_ele                     channel_sales  cons_12m  \\\n",
       "0                    NaN  lmkebamcaaclubfxadlmueccxoimlema    309275   \n",
       "1                    NaN  foosdfpfkusacimwkcsosbicdxkicaua         0   \n",
       "2                    NaN                               NaN      4660   \n",
       "3                    NaN  foosdfpfkusacimwkcsosbicdxkicaua       544   \n",
       "4                    NaN  lmkebamcaaclubfxadlmueccxoimlema      1584   \n",
       "...                  ...                               ...       ...   \n",
       "16091                NaN  foosdfpfkusacimwkcsosbicdxkicaua     32270   \n",
       "16092                NaN  foosdfpfkusacimwkcsosbicdxkicaua      7223   \n",
       "16093                NaN  foosdfpfkusacimwkcsosbicdxkicaua      1844   \n",
       "16094                NaN  foosdfpfkusacimwkcsosbicdxkicaua       131   \n",
       "16095                NaN                               NaN      8730   \n",
       "\n",
       "       cons_gas_12m  cons_last_month  date_activ    date_end date_first_activ  \\\n",
       "0                 0            10025  2012-11-07  2016-11-06              NaN   \n",
       "1             54946                0  2013-06-15  2016-06-15              NaN   \n",
       "2                 0                0  2009-08-21  2016-08-30              NaN   \n",
       "3                 0                0  2010-04-16  2016-04-16              NaN   \n",
       "4                 0                0  2010-03-30  2016-03-30              NaN   \n",
       "...             ...              ...         ...         ...              ...   \n",
       "16091         47940                0  2012-05-24  2016-05-08              NaN   \n",
       "16092             0              181  2012-08-27  2016-08-27       2012-08-27   \n",
       "16093             0              179  2012-02-08  2016-02-07              NaN   \n",
       "16094             0                0  2012-08-30  2016-08-30              NaN   \n",
       "16095             0                0  2009-12-18  2016-12-17              NaN   \n",
       "\n",
       "       ... has_gas imp_cons  margin_gross_pow_ele  margin_net_pow_ele  \\\n",
       "0      ...       f   831.80                -41.76              -41.76   \n",
       "1      ...       t     0.00                 25.44               25.44   \n",
       "2      ...       f     0.00                 16.38               16.38   \n",
       "3      ...       f     0.00                 28.60               28.60   \n",
       "4      ...       f     0.00                 30.22               30.22   \n",
       "...    ...     ...      ...                   ...                 ...   \n",
       "16091  ...       t     0.00                 27.88               27.88   \n",
       "16092  ...       f    15.94                  0.00                0.00   \n",
       "16093  ...       f    18.05                 39.84               39.84   \n",
       "16094  ...       f     0.00                 13.08               13.08   \n",
       "16095  ...       f     0.00                 11.84               11.84   \n",
       "\n",
       "       nb_prod_act  net_margin  num_years_antig  \\\n",
       "0                1     1732.36                3   \n",
       "1                2      678.99                3   \n",
       "2                1       18.89                6   \n",
       "3                1        6.60                6   \n",
       "4                1       25.46                6   \n",
       "...            ...         ...              ...   \n",
       "16091            2      381.77                4   \n",
       "16092            1       90.34                3   \n",
       "16093            1       20.38                4   \n",
       "16094            1        0.96                3   \n",
       "16095            1       96.34                6   \n",
       "\n",
       "                              origin_up  pow_max  churn  \n",
       "0      ldkssxwpmemidmecebumciepifcamkci  180.000      0  \n",
       "1      lxidpiddsbxsbosboudacockeimpuepw   43.648      1  \n",
       "2      kamkkxfxxuwbdslkwifmmcsiusiuosws   13.800      0  \n",
       "3      kamkkxfxxuwbdslkwifmmcsiusiuosws   13.856      0  \n",
       "4      kamkkxfxxuwbdslkwifmmcsiusiuosws   13.200      0  \n",
       "...                                 ...      ...    ...  \n",
       "16091  lxidpiddsbxsbosboudacockeimpuepw   15.000      0  \n",
       "16092  lxidpiddsbxsbosboudacockeimpuepw    6.000      1  \n",
       "16093  lxidpiddsbxsbosboudacockeimpuepw   15.935      1  \n",
       "16094  lxidpiddsbxsbosboudacockeimpuepw   11.000      0  \n",
       "16095  ldkssxwpmemidmecebumciepifcamkci   10.392      0  \n",
       "\n",
       "[16096 rows x 33 columns]"
      ]
     },
     "execution_count": 14,
     "metadata": {},
     "output_type": "execute_result"
    }
   ],
   "source": [
    "cust_final_data"
   ]
  },
  {
   "cell_type": "code",
   "execution_count": 15,
   "metadata": {
    "scrolled": true
   },
   "outputs": [
    {
     "data": {
      "text/html": [
       "<div>\n",
       "<style scoped>\n",
       "    .dataframe tbody tr th:only-of-type {\n",
       "        vertical-align: middle;\n",
       "    }\n",
       "\n",
       "    .dataframe tbody tr th {\n",
       "        vertical-align: top;\n",
       "    }\n",
       "\n",
       "    .dataframe thead th {\n",
       "        text-align: right;\n",
       "    }\n",
       "</style>\n",
       "<table border=\"1\" class=\"dataframe\">\n",
       "  <thead>\n",
       "    <tr style=\"text-align: right;\">\n",
       "      <th></th>\n",
       "      <th>campaign_disc_ele</th>\n",
       "      <th>cons_12m</th>\n",
       "      <th>cons_gas_12m</th>\n",
       "      <th>cons_last_month</th>\n",
       "      <th>forecast_base_bill_ele</th>\n",
       "      <th>forecast_base_bill_year</th>\n",
       "      <th>forecast_bill_12m</th>\n",
       "      <th>forecast_cons</th>\n",
       "      <th>forecast_cons_12m</th>\n",
       "      <th>forecast_cons_year</th>\n",
       "      <th>...</th>\n",
       "      <th>forecast_price_energy_p2</th>\n",
       "      <th>forecast_price_pow_p1</th>\n",
       "      <th>imp_cons</th>\n",
       "      <th>margin_gross_pow_ele</th>\n",
       "      <th>margin_net_pow_ele</th>\n",
       "      <th>nb_prod_act</th>\n",
       "      <th>net_margin</th>\n",
       "      <th>num_years_antig</th>\n",
       "      <th>pow_max</th>\n",
       "      <th>churn</th>\n",
       "    </tr>\n",
       "  </thead>\n",
       "  <tbody>\n",
       "    <tr>\n",
       "      <th>count</th>\n",
       "      <td>0.0</td>\n",
       "      <td>1.609600e+04</td>\n",
       "      <td>1.609600e+04</td>\n",
       "      <td>1.609600e+04</td>\n",
       "      <td>3508.000000</td>\n",
       "      <td>3508.000000</td>\n",
       "      <td>3508.000000</td>\n",
       "      <td>3508.000000</td>\n",
       "      <td>16096.000000</td>\n",
       "      <td>16096.000000</td>\n",
       "      <td>...</td>\n",
       "      <td>15970.000000</td>\n",
       "      <td>15970.000000</td>\n",
       "      <td>16096.000000</td>\n",
       "      <td>16083.000000</td>\n",
       "      <td>16083.000000</td>\n",
       "      <td>16096.000000</td>\n",
       "      <td>16081.000000</td>\n",
       "      <td>16096.000000</td>\n",
       "      <td>16093.000000</td>\n",
       "      <td>16096.000000</td>\n",
       "    </tr>\n",
       "    <tr>\n",
       "      <th>mean</th>\n",
       "      <td>NaN</td>\n",
       "      <td>1.948044e+05</td>\n",
       "      <td>3.191164e+04</td>\n",
       "      <td>1.946154e+04</td>\n",
       "      <td>335.843857</td>\n",
       "      <td>335.843857</td>\n",
       "      <td>3837.441866</td>\n",
       "      <td>206.845165</td>\n",
       "      <td>2370.555949</td>\n",
       "      <td>1907.347229</td>\n",
       "      <td>...</td>\n",
       "      <td>0.052951</td>\n",
       "      <td>43.533496</td>\n",
       "      <td>196.123447</td>\n",
       "      <td>22.462276</td>\n",
       "      <td>21.460318</td>\n",
       "      <td>1.347788</td>\n",
       "      <td>217.987028</td>\n",
       "      <td>5.030629</td>\n",
       "      <td>20.604131</td>\n",
       "      <td>0.099093</td>\n",
       "    </tr>\n",
       "    <tr>\n",
       "      <th>std</th>\n",
       "      <td>NaN</td>\n",
       "      <td>6.795151e+05</td>\n",
       "      <td>1.775885e+05</td>\n",
       "      <td>8.235676e+04</td>\n",
       "      <td>649.406000</td>\n",
       "      <td>649.406000</td>\n",
       "      <td>5425.744327</td>\n",
       "      <td>455.634288</td>\n",
       "      <td>4035.085664</td>\n",
       "      <td>5257.364759</td>\n",
       "      <td>...</td>\n",
       "      <td>0.048617</td>\n",
       "      <td>5.212252</td>\n",
       "      <td>494.366979</td>\n",
       "      <td>23.700883</td>\n",
       "      <td>27.917349</td>\n",
       "      <td>1.459808</td>\n",
       "      <td>366.742030</td>\n",
       "      <td>1.676101</td>\n",
       "      <td>21.772421</td>\n",
       "      <td>0.298796</td>\n",
       "    </tr>\n",
       "    <tr>\n",
       "      <th>min</th>\n",
       "      <td>NaN</td>\n",
       "      <td>-1.252760e+05</td>\n",
       "      <td>-3.037000e+03</td>\n",
       "      <td>-9.138600e+04</td>\n",
       "      <td>-364.940000</td>\n",
       "      <td>-364.940000</td>\n",
       "      <td>-2503.480000</td>\n",
       "      <td>0.000000</td>\n",
       "      <td>-16689.260000</td>\n",
       "      <td>-85627.000000</td>\n",
       "      <td>...</td>\n",
       "      <td>0.000000</td>\n",
       "      <td>-0.122184</td>\n",
       "      <td>-9038.210000</td>\n",
       "      <td>-525.540000</td>\n",
       "      <td>-615.660000</td>\n",
       "      <td>1.000000</td>\n",
       "      <td>-4148.990000</td>\n",
       "      <td>1.000000</td>\n",
       "      <td>1.000000</td>\n",
       "      <td>0.000000</td>\n",
       "    </tr>\n",
       "    <tr>\n",
       "      <th>25%</th>\n",
       "      <td>NaN</td>\n",
       "      <td>5.906250e+03</td>\n",
       "      <td>0.000000e+00</td>\n",
       "      <td>0.000000e+00</td>\n",
       "      <td>0.000000</td>\n",
       "      <td>0.000000</td>\n",
       "      <td>1158.175000</td>\n",
       "      <td>0.000000</td>\n",
       "      <td>513.230000</td>\n",
       "      <td>0.000000</td>\n",
       "      <td>...</td>\n",
       "      <td>0.000000</td>\n",
       "      <td>40.606701</td>\n",
       "      <td>0.000000</td>\n",
       "      <td>11.960000</td>\n",
       "      <td>11.950000</td>\n",
       "      <td>1.000000</td>\n",
       "      <td>51.970000</td>\n",
       "      <td>4.000000</td>\n",
       "      <td>12.500000</td>\n",
       "      <td>0.000000</td>\n",
       "    </tr>\n",
       "    <tr>\n",
       "      <th>50%</th>\n",
       "      <td>NaN</td>\n",
       "      <td>1.533250e+04</td>\n",
       "      <td>0.000000e+00</td>\n",
       "      <td>9.010000e+02</td>\n",
       "      <td>162.955000</td>\n",
       "      <td>162.955000</td>\n",
       "      <td>2187.230000</td>\n",
       "      <td>42.215000</td>\n",
       "      <td>1179.160000</td>\n",
       "      <td>378.000000</td>\n",
       "      <td>...</td>\n",
       "      <td>0.086163</td>\n",
       "      <td>44.311378</td>\n",
       "      <td>44.465000</td>\n",
       "      <td>21.090000</td>\n",
       "      <td>20.970000</td>\n",
       "      <td>1.000000</td>\n",
       "      <td>119.680000</td>\n",
       "      <td>5.000000</td>\n",
       "      <td>13.856000</td>\n",
       "      <td>0.000000</td>\n",
       "    </tr>\n",
       "    <tr>\n",
       "      <th>75%</th>\n",
       "      <td>NaN</td>\n",
       "      <td>5.022150e+04</td>\n",
       "      <td>0.000000e+00</td>\n",
       "      <td>4.127000e+03</td>\n",
       "      <td>396.185000</td>\n",
       "      <td>396.185000</td>\n",
       "      <td>4246.555000</td>\n",
       "      <td>228.117500</td>\n",
       "      <td>2692.077500</td>\n",
       "      <td>1994.250000</td>\n",
       "      <td>...</td>\n",
       "      <td>0.098837</td>\n",
       "      <td>44.311378</td>\n",
       "      <td>218.090000</td>\n",
       "      <td>29.640000</td>\n",
       "      <td>29.640000</td>\n",
       "      <td>1.000000</td>\n",
       "      <td>275.810000</td>\n",
       "      <td>6.000000</td>\n",
       "      <td>19.800000</td>\n",
       "      <td>0.000000</td>\n",
       "    </tr>\n",
       "    <tr>\n",
       "      <th>max</th>\n",
       "      <td>NaN</td>\n",
       "      <td>1.609711e+07</td>\n",
       "      <td>4.188440e+06</td>\n",
       "      <td>4.538720e+06</td>\n",
       "      <td>12566.080000</td>\n",
       "      <td>12566.080000</td>\n",
       "      <td>81122.630000</td>\n",
       "      <td>9682.890000</td>\n",
       "      <td>103801.930000</td>\n",
       "      <td>175375.000000</td>\n",
       "      <td>...</td>\n",
       "      <td>0.195975</td>\n",
       "      <td>59.444710</td>\n",
       "      <td>15042.790000</td>\n",
       "      <td>374.640000</td>\n",
       "      <td>374.640000</td>\n",
       "      <td>32.000000</td>\n",
       "      <td>24570.650000</td>\n",
       "      <td>16.000000</td>\n",
       "      <td>500.000000</td>\n",
       "      <td>1.000000</td>\n",
       "    </tr>\n",
       "  </tbody>\n",
       "</table>\n",
       "<p>8 rows × 23 columns</p>\n",
       "</div>"
      ],
      "text/plain": [
       "       campaign_disc_ele      cons_12m  cons_gas_12m  cons_last_month  \\\n",
       "count                0.0  1.609600e+04  1.609600e+04     1.609600e+04   \n",
       "mean                 NaN  1.948044e+05  3.191164e+04     1.946154e+04   \n",
       "std                  NaN  6.795151e+05  1.775885e+05     8.235676e+04   \n",
       "min                  NaN -1.252760e+05 -3.037000e+03    -9.138600e+04   \n",
       "25%                  NaN  5.906250e+03  0.000000e+00     0.000000e+00   \n",
       "50%                  NaN  1.533250e+04  0.000000e+00     9.010000e+02   \n",
       "75%                  NaN  5.022150e+04  0.000000e+00     4.127000e+03   \n",
       "max                  NaN  1.609711e+07  4.188440e+06     4.538720e+06   \n",
       "\n",
       "       forecast_base_bill_ele  forecast_base_bill_year  forecast_bill_12m  \\\n",
       "count             3508.000000              3508.000000        3508.000000   \n",
       "mean               335.843857               335.843857        3837.441866   \n",
       "std                649.406000               649.406000        5425.744327   \n",
       "min               -364.940000              -364.940000       -2503.480000   \n",
       "25%                  0.000000                 0.000000        1158.175000   \n",
       "50%                162.955000               162.955000        2187.230000   \n",
       "75%                396.185000               396.185000        4246.555000   \n",
       "max              12566.080000             12566.080000       81122.630000   \n",
       "\n",
       "       forecast_cons  forecast_cons_12m  forecast_cons_year  ...  \\\n",
       "count    3508.000000       16096.000000        16096.000000  ...   \n",
       "mean      206.845165        2370.555949         1907.347229  ...   \n",
       "std       455.634288        4035.085664         5257.364759  ...   \n",
       "min         0.000000      -16689.260000       -85627.000000  ...   \n",
       "25%         0.000000         513.230000            0.000000  ...   \n",
       "50%        42.215000        1179.160000          378.000000  ...   \n",
       "75%       228.117500        2692.077500         1994.250000  ...   \n",
       "max      9682.890000      103801.930000       175375.000000  ...   \n",
       "\n",
       "       forecast_price_energy_p2  forecast_price_pow_p1      imp_cons  \\\n",
       "count              15970.000000           15970.000000  16096.000000   \n",
       "mean                   0.052951              43.533496    196.123447   \n",
       "std                    0.048617               5.212252    494.366979   \n",
       "min                    0.000000              -0.122184  -9038.210000   \n",
       "25%                    0.000000              40.606701      0.000000   \n",
       "50%                    0.086163              44.311378     44.465000   \n",
       "75%                    0.098837              44.311378    218.090000   \n",
       "max                    0.195975              59.444710  15042.790000   \n",
       "\n",
       "       margin_gross_pow_ele  margin_net_pow_ele   nb_prod_act    net_margin  \\\n",
       "count          16083.000000        16083.000000  16096.000000  16081.000000   \n",
       "mean              22.462276           21.460318      1.347788    217.987028   \n",
       "std               23.700883           27.917349      1.459808    366.742030   \n",
       "min             -525.540000         -615.660000      1.000000  -4148.990000   \n",
       "25%               11.960000           11.950000      1.000000     51.970000   \n",
       "50%               21.090000           20.970000      1.000000    119.680000   \n",
       "75%               29.640000           29.640000      1.000000    275.810000   \n",
       "max              374.640000          374.640000     32.000000  24570.650000   \n",
       "\n",
       "       num_years_antig       pow_max         churn  \n",
       "count     16096.000000  16093.000000  16096.000000  \n",
       "mean          5.030629     20.604131      0.099093  \n",
       "std           1.676101     21.772421      0.298796  \n",
       "min           1.000000      1.000000      0.000000  \n",
       "25%           4.000000     12.500000      0.000000  \n",
       "50%           5.000000     13.856000      0.000000  \n",
       "75%           6.000000     19.800000      0.000000  \n",
       "max          16.000000    500.000000      1.000000  \n",
       "\n",
       "[8 rows x 23 columns]"
      ]
     },
     "execution_count": 15,
     "metadata": {},
     "output_type": "execute_result"
    }
   ],
   "source": [
    "cust_final_data.describe()"
   ]
  },
  {
   "cell_type": "raw",
   "metadata": {},
   "source": [
    "Sub-Task 1:\n",
    "\n",
    "Clean the data – you might have to address missing values, duplicates, data type conversions, transformations, and multicolinearity, as well as outliers.\n",
    "\n",
    "Sub-Task 2:\n",
    "\n",
    "Perform some exploratory data analysis. Look into the data types, data statistics, and identify any missing data or null values, and how often they appear in the data. Visualize specific parameters as well as variable distributions."
   ]
  },
  {
   "cell_type": "raw",
   "metadata": {},
   "source": [
    "Cleaning the Data: \n",
    "1. Lets remove few rows of data, where many values are missing and cannot be used for analysis."
   ]
  },
  {
   "cell_type": "code",
   "execution_count": 16,
   "metadata": {},
   "outputs": [
    {
     "name": "stdout",
     "output_type": "stream",
     "text": [
      "campaign_disc_ele           100.00\n",
      "date_first_activ             78.21\n",
      "forecast_cons                78.21\n",
      "forecast_base_bill_ele       78.21\n",
      "forecast_base_bill_year      78.21\n",
      "forecast_bill_12m            78.21\n",
      "activity_new                 59.30\n",
      "channel_sales                26.21\n",
      "date_modif_prod               0.98\n",
      "forecast_price_pow_p1         0.78\n",
      "forecast_price_energy_p2      0.78\n",
      "forecast_discount_energy      0.78\n",
      "forecast_price_energy_p1      0.78\n",
      "origin_up                     0.54\n",
      "date_renewal                  0.25\n",
      "net_margin                    0.09\n",
      "margin_net_pow_ele            0.08\n",
      "margin_gross_pow_ele          0.08\n",
      "pow_max                       0.02\n",
      "date_end                      0.01\n",
      "cons_last_month               0.00\n",
      "cons_gas_12m                  0.00\n",
      "date_activ                    0.00\n",
      "cons_12m                      0.00\n",
      "churn                         0.00\n",
      "forecast_cons_12m             0.00\n",
      "forecast_cons_year            0.00\n",
      "forecast_meter_rent_12m       0.00\n",
      "has_gas                       0.00\n",
      "imp_cons                      0.00\n",
      "nb_prod_act                   0.00\n",
      "num_years_antig               0.00\n",
      "id                            0.00\n",
      "dtype: float64\n"
     ]
    }
   ],
   "source": [
    "def missing(dff):\n",
    "    print (round((dff.isnull().sum() * 100/ len(dff)),2).sort_values(ascending=False))\n",
    "\n",
    "drop_col = missing(cust_final_data)\n",
    "drop_col"
   ]
  },
  {
   "cell_type": "markdown",
   "metadata": {},
   "source": [
    "From the above drop_col we can see that some columns have many missing values or NAN, lets go ahead and remove columns with missing data more than 70%"
   ]
  },
  {
   "cell_type": "code",
   "execution_count": 17,
   "metadata": {},
   "outputs": [],
   "source": [
    "cust_final_data.drop(['campaign_disc_ele', 'date_first_activ', 'forecast_base_bill_ele', 'forecast_base_bill_year',\n",
    "                     'forecast_bill_12m', 'forecast_cons'], axis=1, inplace=True)"
   ]
  },
  {
   "cell_type": "code",
   "execution_count": 18,
   "metadata": {},
   "outputs": [
    {
     "data": {
      "text/html": [
       "<div>\n",
       "<style scoped>\n",
       "    .dataframe tbody tr th:only-of-type {\n",
       "        vertical-align: middle;\n",
       "    }\n",
       "\n",
       "    .dataframe tbody tr th {\n",
       "        vertical-align: top;\n",
       "    }\n",
       "\n",
       "    .dataframe thead th {\n",
       "        text-align: right;\n",
       "    }\n",
       "</style>\n",
       "<table border=\"1\" class=\"dataframe\">\n",
       "  <thead>\n",
       "    <tr style=\"text-align: right;\">\n",
       "      <th></th>\n",
       "      <th>id</th>\n",
       "      <th>activity_new</th>\n",
       "      <th>channel_sales</th>\n",
       "      <th>cons_12m</th>\n",
       "      <th>cons_gas_12m</th>\n",
       "      <th>cons_last_month</th>\n",
       "      <th>date_activ</th>\n",
       "      <th>date_end</th>\n",
       "      <th>date_modif_prod</th>\n",
       "      <th>date_renewal</th>\n",
       "      <th>...</th>\n",
       "      <th>has_gas</th>\n",
       "      <th>imp_cons</th>\n",
       "      <th>margin_gross_pow_ele</th>\n",
       "      <th>margin_net_pow_ele</th>\n",
       "      <th>nb_prod_act</th>\n",
       "      <th>net_margin</th>\n",
       "      <th>num_years_antig</th>\n",
       "      <th>origin_up</th>\n",
       "      <th>pow_max</th>\n",
       "      <th>churn</th>\n",
       "    </tr>\n",
       "  </thead>\n",
       "  <tbody>\n",
       "    <tr>\n",
       "      <th>0</th>\n",
       "      <td>48ada52261e7cf58715202705a0451c9</td>\n",
       "      <td>esoiiifxdlbkcsluxmfuacbdckommixw</td>\n",
       "      <td>lmkebamcaaclubfxadlmueccxoimlema</td>\n",
       "      <td>309275</td>\n",
       "      <td>0</td>\n",
       "      <td>10025</td>\n",
       "      <td>2012-11-07</td>\n",
       "      <td>2016-11-06</td>\n",
       "      <td>2012-11-07</td>\n",
       "      <td>2015-11-09</td>\n",
       "      <td>...</td>\n",
       "      <td>f</td>\n",
       "      <td>831.8</td>\n",
       "      <td>-41.76</td>\n",
       "      <td>-41.76</td>\n",
       "      <td>1</td>\n",
       "      <td>1732.36</td>\n",
       "      <td>3</td>\n",
       "      <td>ldkssxwpmemidmecebumciepifcamkci</td>\n",
       "      <td>180.000</td>\n",
       "      <td>0</td>\n",
       "    </tr>\n",
       "    <tr>\n",
       "      <th>1</th>\n",
       "      <td>24011ae4ebbe3035111d65fa7c15bc57</td>\n",
       "      <td>NaN</td>\n",
       "      <td>foosdfpfkusacimwkcsosbicdxkicaua</td>\n",
       "      <td>0</td>\n",
       "      <td>54946</td>\n",
       "      <td>0</td>\n",
       "      <td>2013-06-15</td>\n",
       "      <td>2016-06-15</td>\n",
       "      <td>NaN</td>\n",
       "      <td>2015-06-23</td>\n",
       "      <td>...</td>\n",
       "      <td>t</td>\n",
       "      <td>0.0</td>\n",
       "      <td>25.44</td>\n",
       "      <td>25.44</td>\n",
       "      <td>2</td>\n",
       "      <td>678.99</td>\n",
       "      <td>3</td>\n",
       "      <td>lxidpiddsbxsbosboudacockeimpuepw</td>\n",
       "      <td>43.648</td>\n",
       "      <td>1</td>\n",
       "    </tr>\n",
       "    <tr>\n",
       "      <th>2</th>\n",
       "      <td>d29c2c54acc38ff3c0614d0a653813dd</td>\n",
       "      <td>NaN</td>\n",
       "      <td>NaN</td>\n",
       "      <td>4660</td>\n",
       "      <td>0</td>\n",
       "      <td>0</td>\n",
       "      <td>2009-08-21</td>\n",
       "      <td>2016-08-30</td>\n",
       "      <td>2009-08-21</td>\n",
       "      <td>2015-08-31</td>\n",
       "      <td>...</td>\n",
       "      <td>f</td>\n",
       "      <td>0.0</td>\n",
       "      <td>16.38</td>\n",
       "      <td>16.38</td>\n",
       "      <td>1</td>\n",
       "      <td>18.89</td>\n",
       "      <td>6</td>\n",
       "      <td>kamkkxfxxuwbdslkwifmmcsiusiuosws</td>\n",
       "      <td>13.800</td>\n",
       "      <td>0</td>\n",
       "    </tr>\n",
       "    <tr>\n",
       "      <th>3</th>\n",
       "      <td>764c75f661154dac3a6c254cd082ea7d</td>\n",
       "      <td>NaN</td>\n",
       "      <td>foosdfpfkusacimwkcsosbicdxkicaua</td>\n",
       "      <td>544</td>\n",
       "      <td>0</td>\n",
       "      <td>0</td>\n",
       "      <td>2010-04-16</td>\n",
       "      <td>2016-04-16</td>\n",
       "      <td>2010-04-16</td>\n",
       "      <td>2015-04-17</td>\n",
       "      <td>...</td>\n",
       "      <td>f</td>\n",
       "      <td>0.0</td>\n",
       "      <td>28.60</td>\n",
       "      <td>28.60</td>\n",
       "      <td>1</td>\n",
       "      <td>6.60</td>\n",
       "      <td>6</td>\n",
       "      <td>kamkkxfxxuwbdslkwifmmcsiusiuosws</td>\n",
       "      <td>13.856</td>\n",
       "      <td>0</td>\n",
       "    </tr>\n",
       "    <tr>\n",
       "      <th>4</th>\n",
       "      <td>bba03439a292a1e166f80264c16191cb</td>\n",
       "      <td>NaN</td>\n",
       "      <td>lmkebamcaaclubfxadlmueccxoimlema</td>\n",
       "      <td>1584</td>\n",
       "      <td>0</td>\n",
       "      <td>0</td>\n",
       "      <td>2010-03-30</td>\n",
       "      <td>2016-03-30</td>\n",
       "      <td>2010-03-30</td>\n",
       "      <td>2015-03-31</td>\n",
       "      <td>...</td>\n",
       "      <td>f</td>\n",
       "      <td>0.0</td>\n",
       "      <td>30.22</td>\n",
       "      <td>30.22</td>\n",
       "      <td>1</td>\n",
       "      <td>25.46</td>\n",
       "      <td>6</td>\n",
       "      <td>kamkkxfxxuwbdslkwifmmcsiusiuosws</td>\n",
       "      <td>13.200</td>\n",
       "      <td>0</td>\n",
       "    </tr>\n",
       "  </tbody>\n",
       "</table>\n",
       "<p>5 rows × 27 columns</p>\n",
       "</div>"
      ],
      "text/plain": [
       "                                 id                      activity_new  \\\n",
       "0  48ada52261e7cf58715202705a0451c9  esoiiifxdlbkcsluxmfuacbdckommixw   \n",
       "1  24011ae4ebbe3035111d65fa7c15bc57                               NaN   \n",
       "2  d29c2c54acc38ff3c0614d0a653813dd                               NaN   \n",
       "3  764c75f661154dac3a6c254cd082ea7d                               NaN   \n",
       "4  bba03439a292a1e166f80264c16191cb                               NaN   \n",
       "\n",
       "                      channel_sales  cons_12m  cons_gas_12m  cons_last_month  \\\n",
       "0  lmkebamcaaclubfxadlmueccxoimlema    309275             0            10025   \n",
       "1  foosdfpfkusacimwkcsosbicdxkicaua         0         54946                0   \n",
       "2                               NaN      4660             0                0   \n",
       "3  foosdfpfkusacimwkcsosbicdxkicaua       544             0                0   \n",
       "4  lmkebamcaaclubfxadlmueccxoimlema      1584             0                0   \n",
       "\n",
       "   date_activ    date_end date_modif_prod date_renewal  ...  has_gas  \\\n",
       "0  2012-11-07  2016-11-06      2012-11-07   2015-11-09  ...        f   \n",
       "1  2013-06-15  2016-06-15             NaN   2015-06-23  ...        t   \n",
       "2  2009-08-21  2016-08-30      2009-08-21   2015-08-31  ...        f   \n",
       "3  2010-04-16  2016-04-16      2010-04-16   2015-04-17  ...        f   \n",
       "4  2010-03-30  2016-03-30      2010-03-30   2015-03-31  ...        f   \n",
       "\n",
       "   imp_cons  margin_gross_pow_ele  margin_net_pow_ele  nb_prod_act  \\\n",
       "0     831.8                -41.76              -41.76            1   \n",
       "1       0.0                 25.44               25.44            2   \n",
       "2       0.0                 16.38               16.38            1   \n",
       "3       0.0                 28.60               28.60            1   \n",
       "4       0.0                 30.22               30.22            1   \n",
       "\n",
       "   net_margin  num_years_antig                         origin_up  pow_max  \\\n",
       "0     1732.36                3  ldkssxwpmemidmecebumciepifcamkci  180.000   \n",
       "1      678.99                3  lxidpiddsbxsbosboudacockeimpuepw   43.648   \n",
       "2       18.89                6  kamkkxfxxuwbdslkwifmmcsiusiuosws   13.800   \n",
       "3        6.60                6  kamkkxfxxuwbdslkwifmmcsiusiuosws   13.856   \n",
       "4       25.46                6  kamkkxfxxuwbdslkwifmmcsiusiuosws   13.200   \n",
       "\n",
       "   churn  \n",
       "0      0  \n",
       "1      1  \n",
       "2      0  \n",
       "3      0  \n",
       "4      0  \n",
       "\n",
       "[5 rows x 27 columns]"
      ]
     },
     "execution_count": 18,
     "metadata": {},
     "output_type": "execute_result"
    }
   ],
   "source": [
    "cust_final_data.head()"
   ]
  },
  {
   "cell_type": "code",
   "execution_count": 19,
   "metadata": {},
   "outputs": [],
   "source": [
    "#Change the datatype of date_activ, date_end, date_modif_prod, date_renewal\n",
    "cust_final_data['date_activ']=pd.to_datetime(cust_final_data['date_activ'])\n",
    "cust_final_data['date_end']=pd.to_datetime(cust_final_data['date_end'])\n",
    "cust_final_data['date_modif_prod']=pd.to_datetime(cust_final_data['date_modif_prod'])\n",
    "cust_final_data['date_renewal']=pd.to_datetime(cust_final_data['date_renewal'])"
   ]
  },
  {
   "cell_type": "code",
   "execution_count": 20,
   "metadata": {},
   "outputs": [
    {
     "data": {
      "text/plain": [
       "apdekpcbwosbxepsfxclislboipuxpop    1577\n",
       "kkklcdamwfafdcfwofuscwfwadblfmce     422\n",
       "kwuslieomapmswolewpobpplkaooaaew     230\n",
       "fmwdwsxillemwbbwelxsampiuwwpcdcb     219\n",
       "ckfxocssowaeipxueikxcmaxdmcduxsa     189\n",
       "                                    ... \n",
       "ubmsiuoxiaiukxlcfflklluolpeuxaas       1\n",
       "bbebkcibifdwwepuoclceofdbdipleml       1\n",
       "dxmfpsflslufmxlmwdmbkikffowmfmum       1\n",
       "iwmoskaicewfewukldfwcdwlxcwwoeom       1\n",
       "mcufpoekpaeboepkkkmoxcmcmlxcwedd       1\n",
       "Name: activity_new, Length: 419, dtype: int64"
      ]
     },
     "execution_count": 20,
     "metadata": {},
     "output_type": "execute_result"
    }
   ],
   "source": [
    "activity = cust_final_data['activity_new'].value_counts()\n",
    "activity"
   ]
  },
  {
   "cell_type": "code",
   "execution_count": 21,
   "metadata": {},
   "outputs": [
    {
     "data": {
      "text/plain": [
       "foosdfpfkusacimwkcsosbicdxkicaua    7377\n",
       "lmkebamcaaclubfxadlmueccxoimlema    2073\n",
       "usilxuppasemubllopkaafesmlibmsdf    1444\n",
       "ewpakwlliwisiwduibdlfmalxowmwpci     966\n",
       "sddiedcslfslkckwlfkdpoeeailfpeds      12\n",
       "epumfxlbckeskwekxbiuasklxalciiuu       4\n",
       "fixdbufsefwooaasfcxdxadsiekoceaa       2\n",
       "Name: channel_sales, dtype: int64"
      ]
     },
     "execution_count": 21,
     "metadata": {},
     "output_type": "execute_result"
    }
   ],
   "source": [
    "#channel_sales -- code of the sales channel\n",
    "sales = cust_final_data['channel_sales'].value_counts()\n",
    "sales"
   ]
  },
  {
   "cell_type": "markdown",
   "metadata": {},
   "source": [
    "We can change the channel_sales into number"
   ]
  },
  {
   "cell_type": "code",
   "execution_count": 22,
   "metadata": {},
   "outputs": [
    {
     "data": {
      "text/plain": [
       "0.0     15391\n",
       "30.0      280\n",
       "24.0      112\n",
       "28.0      102\n",
       "22.0       58\n",
       "25.0        7\n",
       "26.0        5\n",
       "19.0        4\n",
       "17.0        3\n",
       "50.0        2\n",
       "23.0        2\n",
       "10.0        2\n",
       "12.0        1\n",
       "5.0         1\n",
       "Name: forecast_discount_energy, dtype: int64"
      ]
     },
     "execution_count": 22,
     "metadata": {},
     "output_type": "execute_result"
    }
   ],
   "source": [
    "#forecast_discount_energy -- forecasted value of current discount\n",
    "discount = cust_final_data['forecast_discount_energy'].value_counts()\n",
    "discount"
   ]
  },
  {
   "cell_type": "code",
   "execution_count": 23,
   "metadata": {},
   "outputs": [
    {
     "data": {
      "text/plain": [
       "15970"
      ]
     },
     "execution_count": 23,
     "metadata": {},
     "output_type": "execute_result"
    }
   ],
   "source": [
    "sum(discount)"
   ]
  },
  {
   "cell_type": "code",
   "execution_count": 24,
   "metadata": {},
   "outputs": [
    {
     "data": {
      "text/plain": [
       "6     5054\n",
       "4     4331\n",
       "3     2757\n",
       "5     2495\n",
       "7      648\n",
       "11     236\n",
       "8      202\n",
       "12     127\n",
       "10     113\n",
       "9      106\n",
       "13      13\n",
       "2       11\n",
       "15       1\n",
       "1        1\n",
       "16       1\n",
       "Name: num_years_antig, dtype: int64"
      ]
     },
     "execution_count": 24,
     "metadata": {},
     "output_type": "execute_result"
    }
   ],
   "source": [
    "antig = cust_final_data['num_years_antig'].value_counts()\n",
    "antig"
   ]
  },
  {
   "cell_type": "code",
   "execution_count": 25,
   "metadata": {},
   "outputs": [
    {
     "data": {
      "text/plain": [
       "<matplotlib.axes._subplots.AxesSubplot at 0x286f3d61248>"
      ]
     },
     "execution_count": 25,
     "metadata": {},
     "output_type": "execute_result"
    },
    {
     "data": {
      "image/png": "[encoded data removed]",
      "text/plain": [
       "<Figure size 432x288 with 1 Axes>"
      ]
     },
     "metadata": {
      "needs_background": "light"
     },
     "output_type": "display_data"
    }
   ],
   "source": [
    "cust_final_data['num_years_antig'].hist()"
   ]
  },
  {
   "cell_type": "markdown",
   "metadata": {},
   "source": [
    "Many Customers are 4 or 5 years with the company (average period of customer with the client)"
   ]
  },
  {
   "cell_type": "code",
   "execution_count": 26,
   "metadata": {},
   "outputs": [
    {
     "data": {
      "text/plain": [
       "1     12560\n",
       "2      2708\n",
       "3       561\n",
       "4       170\n",
       "5        37\n",
       "32       25\n",
       "9        12\n",
       "6         9\n",
       "8         8\n",
       "31        4\n",
       "10        2\n",
       "Name: nb_prod_act, dtype: int64"
      ]
     },
     "execution_count": 26,
     "metadata": {},
     "output_type": "execute_result"
    }
   ],
   "source": [
    "tot_prod = cust_final_data['nb_prod_act'].value_counts()\n",
    "tot_prod"
   ]
  },
  {
   "cell_type": "code",
   "execution_count": null,
   "metadata": {},
   "outputs": [],
   "source": []
  },
  {
   "cell_type": "markdown",
   "metadata": {},
   "source": [
    "32 and 31 are outliers-- check them"
   ]
  },
  {
   "cell_type": "code",
   "execution_count": 27,
   "metadata": {},
   "outputs": [
    {
     "data": {
      "text/html": [
       "<div>\n",
       "<style scoped>\n",
       "    .dataframe tbody tr th:only-of-type {\n",
       "        vertical-align: middle;\n",
       "    }\n",
       "\n",
       "    .dataframe tbody tr th {\n",
       "        vertical-align: top;\n",
       "    }\n",
       "\n",
       "    .dataframe thead th {\n",
       "        text-align: right;\n",
       "    }\n",
       "</style>\n",
       "<table border=\"1\" class=\"dataframe\">\n",
       "  <thead>\n",
       "    <tr style=\"text-align: right;\">\n",
       "      <th></th>\n",
       "      <th>id</th>\n",
       "      <th>activity_new</th>\n",
       "      <th>channel_sales</th>\n",
       "      <th>cons_12m</th>\n",
       "      <th>cons_gas_12m</th>\n",
       "      <th>cons_last_month</th>\n",
       "      <th>date_activ</th>\n",
       "      <th>date_end</th>\n",
       "      <th>date_modif_prod</th>\n",
       "      <th>date_renewal</th>\n",
       "      <th>...</th>\n",
       "      <th>has_gas</th>\n",
       "      <th>imp_cons</th>\n",
       "      <th>margin_gross_pow_ele</th>\n",
       "      <th>margin_net_pow_ele</th>\n",
       "      <th>nb_prod_act</th>\n",
       "      <th>net_margin</th>\n",
       "      <th>num_years_antig</th>\n",
       "      <th>origin_up</th>\n",
       "      <th>pow_max</th>\n",
       "      <th>churn</th>\n",
       "    </tr>\n",
       "  </thead>\n",
       "  <tbody>\n",
       "    <tr>\n",
       "      <th>3556</th>\n",
       "      <td>b39e4f74092094d80d6a185e279c01c5</td>\n",
       "      <td>sffadmsbuamddwapeumdfibkmpkdicmc</td>\n",
       "      <td>foosdfpfkusacimwkcsosbicdxkicaua</td>\n",
       "      <td>316796</td>\n",
       "      <td>0</td>\n",
       "      <td>30555</td>\n",
       "      <td>2013-05-26</td>\n",
       "      <td>2016-08-05</td>\n",
       "      <td>2015-08-05</td>\n",
       "      <td>2015-07-04</td>\n",
       "      <td>...</td>\n",
       "      <td>f</td>\n",
       "      <td>183.21</td>\n",
       "      <td>-0.72</td>\n",
       "      <td>-0.72</td>\n",
       "      <td>31</td>\n",
       "      <td>55.04</td>\n",
       "      <td>3</td>\n",
       "      <td>lxidpiddsbxsbosboudacockeimpuepw</td>\n",
       "      <td>11.50</td>\n",
       "      <td>0</td>\n",
       "    </tr>\n",
       "    <tr>\n",
       "      <th>10401</th>\n",
       "      <td>6bd8a120f9a1ea0c57ed656481141495</td>\n",
       "      <td>xpmaxkfbpsbuliopadcpsolcbdboopbf</td>\n",
       "      <td>lmkebamcaaclubfxadlmueccxoimlema</td>\n",
       "      <td>316796</td>\n",
       "      <td>0</td>\n",
       "      <td>30555</td>\n",
       "      <td>2012-06-07</td>\n",
       "      <td>2016-08-05</td>\n",
       "      <td>2015-08-05</td>\n",
       "      <td>2015-06-10</td>\n",
       "      <td>...</td>\n",
       "      <td>f</td>\n",
       "      <td>247.94</td>\n",
       "      <td>-0.20</td>\n",
       "      <td>-0.20</td>\n",
       "      <td>31</td>\n",
       "      <td>44.58</td>\n",
       "      <td>4</td>\n",
       "      <td>lxidpiddsbxsbosboudacockeimpuepw</td>\n",
       "      <td>13.86</td>\n",
       "      <td>0</td>\n",
       "    </tr>\n",
       "    <tr>\n",
       "      <th>12910</th>\n",
       "      <td>c2ee885669b500427c11c75ca8de0db0</td>\n",
       "      <td>sffadmsbuamddwapeumdfibkmpkdicmc</td>\n",
       "      <td>foosdfpfkusacimwkcsosbicdxkicaua</td>\n",
       "      <td>316796</td>\n",
       "      <td>0</td>\n",
       "      <td>30555</td>\n",
       "      <td>2013-06-13</td>\n",
       "      <td>2016-08-05</td>\n",
       "      <td>2015-08-05</td>\n",
       "      <td>2015-07-04</td>\n",
       "      <td>...</td>\n",
       "      <td>f</td>\n",
       "      <td>0.00</td>\n",
       "      <td>-3.48</td>\n",
       "      <td>-3.48</td>\n",
       "      <td>31</td>\n",
       "      <td>-257.49</td>\n",
       "      <td>3</td>\n",
       "      <td>lxidpiddsbxsbosboudacockeimpuepw</td>\n",
       "      <td>27.71</td>\n",
       "      <td>0</td>\n",
       "    </tr>\n",
       "    <tr>\n",
       "      <th>13898</th>\n",
       "      <td>cce88c7d721430d8bd31f71ae686c91e</td>\n",
       "      <td>xpmaxkfbpsbuliopadcpsolcbdboopbf</td>\n",
       "      <td>foosdfpfkusacimwkcsosbicdxkicaua</td>\n",
       "      <td>316796</td>\n",
       "      <td>0</td>\n",
       "      <td>30555</td>\n",
       "      <td>2013-06-14</td>\n",
       "      <td>2016-08-05</td>\n",
       "      <td>2015-08-05</td>\n",
       "      <td>2015-07-04</td>\n",
       "      <td>...</td>\n",
       "      <td>f</td>\n",
       "      <td>84.44</td>\n",
       "      <td>-2.82</td>\n",
       "      <td>-2.82</td>\n",
       "      <td>31</td>\n",
       "      <td>-168.54</td>\n",
       "      <td>3</td>\n",
       "      <td>lxidpiddsbxsbosboudacockeimpuepw</td>\n",
       "      <td>23.00</td>\n",
       "      <td>0</td>\n",
       "    </tr>\n",
       "  </tbody>\n",
       "</table>\n",
       "<p>4 rows × 27 columns</p>\n",
       "</div>"
      ],
      "text/plain": [
       "                                     id                      activity_new  \\\n",
       "3556   b39e4f74092094d80d6a185e279c01c5  sffadmsbuamddwapeumdfibkmpkdicmc   \n",
       "10401  6bd8a120f9a1ea0c57ed656481141495  xpmaxkfbpsbuliopadcpsolcbdboopbf   \n",
       "12910  c2ee885669b500427c11c75ca8de0db0  sffadmsbuamddwapeumdfibkmpkdicmc   \n",
       "13898  cce88c7d721430d8bd31f71ae686c91e  xpmaxkfbpsbuliopadcpsolcbdboopbf   \n",
       "\n",
       "                          channel_sales  cons_12m  cons_gas_12m  \\\n",
       "3556   foosdfpfkusacimwkcsosbicdxkicaua    316796             0   \n",
       "10401  lmkebamcaaclubfxadlmueccxoimlema    316796             0   \n",
       "12910  foosdfpfkusacimwkcsosbicdxkicaua    316796             0   \n",
       "13898  foosdfpfkusacimwkcsosbicdxkicaua    316796             0   \n",
       "\n",
       "       cons_last_month date_activ   date_end date_modif_prod date_renewal  \\\n",
       "3556             30555 2013-05-26 2016-08-05      2015-08-05   2015-07-04   \n",
       "10401            30555 2012-06-07 2016-08-05      2015-08-05   2015-06-10   \n",
       "12910            30555 2013-06-13 2016-08-05      2015-08-05   2015-07-04   \n",
       "13898            30555 2013-06-14 2016-08-05      2015-08-05   2015-07-04   \n",
       "\n",
       "       ...  has_gas  imp_cons  margin_gross_pow_ele  margin_net_pow_ele  \\\n",
       "3556   ...        f    183.21                 -0.72               -0.72   \n",
       "10401  ...        f    247.94                 -0.20               -0.20   \n",
       "12910  ...        f      0.00                 -3.48               -3.48   \n",
       "13898  ...        f     84.44                 -2.82               -2.82   \n",
       "\n",
       "       nb_prod_act  net_margin  num_years_antig  \\\n",
       "3556            31       55.04                3   \n",
       "10401           31       44.58                4   \n",
       "12910           31     -257.49                3   \n",
       "13898           31     -168.54                3   \n",
       "\n",
       "                              origin_up  pow_max  churn  \n",
       "3556   lxidpiddsbxsbosboudacockeimpuepw    11.50      0  \n",
       "10401  lxidpiddsbxsbosboudacockeimpuepw    13.86      0  \n",
       "12910  lxidpiddsbxsbosboudacockeimpuepw    27.71      0  \n",
       "13898  lxidpiddsbxsbosboudacockeimpuepw    23.00      0  \n",
       "\n",
       "[4 rows x 27 columns]"
      ]
     },
     "execution_count": 27,
     "metadata": {},
     "output_type": "execute_result"
    }
   ],
   "source": [
    "cust_final_data[cust_final_data['nb_prod_act']==31]"
   ]
  },
  {
   "cell_type": "code",
   "execution_count": 28,
   "metadata": {},
   "outputs": [
    {
     "data": {
      "text/plain": [
       "([0, 1, 2, 3, 4, 5, 6], <a list of 7 Text xticklabel objects>)"
      ]
     },
     "execution_count": 28,
     "metadata": {},
     "output_type": "execute_result"
    },
    {
     "data": {
      "image/png": "[encoded data removed]",
      "text/plain": [
       "<Figure size 432x288 with 1 Axes>"
      ]
     },
     "metadata": {
      "needs_background": "light"
     },
     "output_type": "display_data"
    }
   ],
   "source": [
    "cust_final_data['channel_sales'].hist()\n",
    "plt.xticks(rotation=90)"
   ]
  },
  {
   "cell_type": "code",
   "execution_count": 29,
   "metadata": {},
   "outputs": [
    {
     "data": {
      "text/plain": [
       "<matplotlib.legend.Legend at 0x286f4660bc8>"
      ]
     },
     "execution_count": 29,
     "metadata": {},
     "output_type": "execute_result"
    },
    {
     "data": {
      "image/png": "[encoded data removed]",
      "text/plain": [
       "<Figure size 432x288 with 1 Axes>"
      ]
     },
     "metadata": {
      "needs_background": "light"
     },
     "output_type": "display_data"
    }
   ],
   "source": [
    "sns.countplot(cust_final_data.churn)\n",
    "plt.legend(cust_final_data.churn)"
   ]
  },
  {
   "cell_type": "markdown",
   "metadata": {},
   "source": [
    "1-churned customers"
   ]
  },
  {
   "cell_type": "code",
   "execution_count": 30,
   "metadata": {},
   "outputs": [
    {
     "data": {
      "text/plain": [
       "<matplotlib.axes._subplots.AxesSubplot at 0x286f478b5c8>"
      ]
     },
     "execution_count": 30,
     "metadata": {},
     "output_type": "execute_result"
    },
    {
     "data": {
      "image/png": "[encoded data removed]",
      "text/plain": [
       "<Figure size 432x288 with 1 Axes>"
      ]
     },
     "metadata": {
      "needs_background": "light"
     },
     "output_type": "display_data"
    }
   ],
   "source": [
    "sns.countplot(cust_final_data.nb_prod_act)"
   ]
  },
  {
   "cell_type": "markdown",
   "metadata": {},
   "source": [
    "Most customers have 1 product active"
   ]
  },
  {
   "cell_type": "code",
   "execution_count": 31,
   "metadata": {},
   "outputs": [
    {
     "data": {
      "text/plain": [
       "<matplotlib.axes._subplots.AxesSubplot at 0x286f481cac8>"
      ]
     },
     "execution_count": 31,
     "metadata": {},
     "output_type": "execute_result"
    },
    {
     "data": {
      "image/png": "[encoded data removed]",
      "text/plain": [
       "<Figure size 432x288 with 1 Axes>"
      ]
     },
     "metadata": {
      "needs_background": "light"
     },
     "output_type": "display_data"
    }
   ],
   "source": [
    "sns.countplot(cust_final_data.forecast_discount_energy)"
   ]
  },
  {
   "cell_type": "markdown",
   "metadata": {},
   "source": [
    "Most customers are not getting any discounts"
   ]
  },
  {
   "cell_type": "markdown",
   "metadata": {},
   "source": [
    "SME Activity"
   ]
  },
  {
   "cell_type": "code",
   "execution_count": 35,
   "metadata": {},
   "outputs": [],
   "source": [
    "activity = cust_final_data[['id','activity_new', 'churn']]"
   ]
  },
  {
   "cell_type": "code",
   "execution_count": 37,
   "metadata": {},
   "outputs": [],
   "source": [
    "activity = activity.groupby([activity['activity_new'], activity['churn']\n",
    "                            ])['id'].count().unstack(level=1).sort_values(\n",
    "    by=[0], ascending=False)\n"
   ]
  },
  {
   "cell_type": "code",
   "execution_count": 38,
   "metadata": {},
   "outputs": [
    {
     "data": {
      "text/html": [
       "<div>\n",
       "<style scoped>\n",
       "    .dataframe tbody tr th:only-of-type {\n",
       "        vertical-align: middle;\n",
       "    }\n",
       "\n",
       "    .dataframe tbody tr th {\n",
       "        vertical-align: top;\n",
       "    }\n",
       "\n",
       "    .dataframe thead th {\n",
       "        text-align: right;\n",
       "    }\n",
       "</style>\n",
       "<table border=\"1\" class=\"dataframe\">\n",
       "  <thead>\n",
       "    <tr style=\"text-align: right;\">\n",
       "      <th>churn</th>\n",
       "      <th>0</th>\n",
       "      <th>1</th>\n",
       "    </tr>\n",
       "    <tr>\n",
       "      <th>activity_new</th>\n",
       "      <th></th>\n",
       "      <th></th>\n",
       "    </tr>\n",
       "  </thead>\n",
       "  <tbody>\n",
       "    <tr>\n",
       "      <th>apdekpcbwosbxepsfxclislboipuxpop</th>\n",
       "      <td>1484.0</td>\n",
       "      <td>93.0</td>\n",
       "    </tr>\n",
       "    <tr>\n",
       "      <th>kkklcdamwfafdcfwofuscwfwadblfmce</th>\n",
       "      <td>384.0</td>\n",
       "      <td>38.0</td>\n",
       "    </tr>\n",
       "    <tr>\n",
       "      <th>kwuslieomapmswolewpobpplkaooaaew</th>\n",
       "      <td>200.0</td>\n",
       "      <td>30.0</td>\n",
       "    </tr>\n",
       "    <tr>\n",
       "      <th>fmwdwsxillemwbbwelxsampiuwwpcdcb</th>\n",
       "      <td>187.0</td>\n",
       "      <td>32.0</td>\n",
       "    </tr>\n",
       "    <tr>\n",
       "      <th>ckfxocssowaeipxueikxcmaxdmcduxsa</th>\n",
       "      <td>176.0</td>\n",
       "      <td>13.0</td>\n",
       "    </tr>\n",
       "    <tr>\n",
       "      <th>...</th>\n",
       "      <td>...</td>\n",
       "      <td>...</td>\n",
       "    </tr>\n",
       "    <tr>\n",
       "      <th>opoiuuwdmxdssidluooopfswlkkkcsxf</th>\n",
       "      <td>NaN</td>\n",
       "      <td>1.0</td>\n",
       "    </tr>\n",
       "    <tr>\n",
       "      <th>pfcocskbxlmofswiflsbcefcpufbopuo</th>\n",
       "      <td>NaN</td>\n",
       "      <td>2.0</td>\n",
       "    </tr>\n",
       "    <tr>\n",
       "      <th>wceaopxmdpccxfmcdpopulcaubcxibuw</th>\n",
       "      <td>NaN</td>\n",
       "      <td>1.0</td>\n",
       "    </tr>\n",
       "    <tr>\n",
       "      <th>wkwdccuiboaeaalcaawlwmldiwmpewma</th>\n",
       "      <td>NaN</td>\n",
       "      <td>1.0</td>\n",
       "    </tr>\n",
       "    <tr>\n",
       "      <th>xwkaesbkfsacseixxksofpddwfkbobki</th>\n",
       "      <td>NaN</td>\n",
       "      <td>1.0</td>\n",
       "    </tr>\n",
       "  </tbody>\n",
       "</table>\n",
       "<p>419 rows × 2 columns</p>\n",
       "</div>"
      ],
      "text/plain": [
       "churn                                  0     1\n",
       "activity_new                                  \n",
       "apdekpcbwosbxepsfxclislboipuxpop  1484.0  93.0\n",
       "kkklcdamwfafdcfwofuscwfwadblfmce   384.0  38.0\n",
       "kwuslieomapmswolewpobpplkaooaaew   200.0  30.0\n",
       "fmwdwsxillemwbbwelxsampiuwwpcdcb   187.0  32.0\n",
       "ckfxocssowaeipxueikxcmaxdmcduxsa   176.0  13.0\n",
       "...                                  ...   ...\n",
       "opoiuuwdmxdssidluooopfswlkkkcsxf     NaN   1.0\n",
       "pfcocskbxlmofswiflsbcefcpufbopuo     NaN   2.0\n",
       "wceaopxmdpccxfmcdpopulcaubcxibuw     NaN   1.0\n",
       "wkwdccuiboaeaalcaawlwmldiwmpewma     NaN   1.0\n",
       "xwkaesbkfsacseixxksofpddwfkbobki     NaN   1.0\n",
       "\n",
       "[419 rows x 2 columns]"
      ]
     },
     "execution_count": 38,
     "metadata": {},
     "output_type": "execute_result"
    }
   ],
   "source": [
    "activity"
   ]
  },
  {
   "cell_type": "code",
   "execution_count": 40,
   "metadata": {},
   "outputs": [
    {
     "data": {
      "image/png": "[encoded data removed]",
      "text/plain": [
       "<Figure size 1296x720 with 1 Axes>"
      ]
     },
     "metadata": {
      "needs_background": "light"
     },
     "output_type": "display_data"
    }
   ],
   "source": [
    "activity.plot(kind=\"bar\", figsize=(18, 10), width=2, stacked=True,  title=\"SME Activity\")\n",
    "# Labels\n",
    "plt.ylabel(\"Number of companies\")\n",
    "plt.xlabel(\"Activity\")\n",
    "# Rename legend\n",
    "plt.legend([\"Retention\", \"Churn\"], loc=\"upper right\")\n",
    "plt.xticks([])\n",
    "plt.show()"
   ]
  },
  {
   "cell_type": "markdown",
   "metadata": {},
   "source": [
    "Sales channel"
   ]
  },
  {
   "cell_type": "code",
   "execution_count": 41,
   "metadata": {},
   "outputs": [],
   "source": [
    "channel = cust_final_data[[\"id\",\"channel_sales\", \"churn\"]]\n"
   ]
  },
  {
   "cell_type": "code",
   "execution_count": 45,
   "metadata": {},
   "outputs": [],
   "source": [
    "channel = channel.groupby([channel['channel_sales'], channel['churn']])['id'].count().unstack(level=1).fillna(0)"
   ]
  },
  {
   "cell_type": "code",
   "execution_count": 47,
   "metadata": {},
   "outputs": [
    {
     "data": {
      "text/html": [
       "<div>\n",
       "<style scoped>\n",
       "    .dataframe tbody tr th:only-of-type {\n",
       "        vertical-align: middle;\n",
       "    }\n",
       "\n",
       "    .dataframe tbody tr th {\n",
       "        vertical-align: top;\n",
       "    }\n",
       "\n",
       "    .dataframe thead th {\n",
       "        text-align: right;\n",
       "    }\n",
       "</style>\n",
       "<table border=\"1\" class=\"dataframe\">\n",
       "  <thead>\n",
       "    <tr style=\"text-align: right;\">\n",
       "      <th>churn</th>\n",
       "      <th>0</th>\n",
       "      <th>1</th>\n",
       "    </tr>\n",
       "    <tr>\n",
       "      <th>channel_sales</th>\n",
       "      <th></th>\n",
       "      <th></th>\n",
       "    </tr>\n",
       "  </thead>\n",
       "  <tbody>\n",
       "    <tr>\n",
       "      <th>epumfxlbckeskwekxbiuasklxalciiuu</th>\n",
       "      <td>4.0</td>\n",
       "      <td>0.0</td>\n",
       "    </tr>\n",
       "    <tr>\n",
       "      <th>ewpakwlliwisiwduibdlfmalxowmwpci</th>\n",
       "      <td>884.0</td>\n",
       "      <td>82.0</td>\n",
       "    </tr>\n",
       "    <tr>\n",
       "      <th>fixdbufsefwooaasfcxdxadsiekoceaa</th>\n",
       "      <td>2.0</td>\n",
       "      <td>0.0</td>\n",
       "    </tr>\n",
       "    <tr>\n",
       "      <th>foosdfpfkusacimwkcsosbicdxkicaua</th>\n",
       "      <td>6455.0</td>\n",
       "      <td>922.0</td>\n",
       "    </tr>\n",
       "    <tr>\n",
       "      <th>lmkebamcaaclubfxadlmueccxoimlema</th>\n",
       "      <td>1957.0</td>\n",
       "      <td>116.0</td>\n",
       "    </tr>\n",
       "    <tr>\n",
       "      <th>sddiedcslfslkckwlfkdpoeeailfpeds</th>\n",
       "      <td>12.0</td>\n",
       "      <td>0.0</td>\n",
       "    </tr>\n",
       "    <tr>\n",
       "      <th>usilxuppasemubllopkaafesmlibmsdf</th>\n",
       "      <td>1294.0</td>\n",
       "      <td>150.0</td>\n",
       "    </tr>\n",
       "  </tbody>\n",
       "</table>\n",
       "</div>"
      ],
      "text/plain": [
       "churn                                  0      1\n",
       "channel_sales                                  \n",
       "epumfxlbckeskwekxbiuasklxalciiuu     4.0    0.0\n",
       "ewpakwlliwisiwduibdlfmalxowmwpci   884.0   82.0\n",
       "fixdbufsefwooaasfcxdxadsiekoceaa     2.0    0.0\n",
       "foosdfpfkusacimwkcsosbicdxkicaua  6455.0  922.0\n",
       "lmkebamcaaclubfxadlmueccxoimlema  1957.0  116.0\n",
       "sddiedcslfslkckwlfkdpoeeailfpeds    12.0    0.0\n",
       "usilxuppasemubllopkaafesmlibmsdf  1294.0  150.0"
      ]
     },
     "execution_count": 47,
     "metadata": {},
     "output_type": "execute_result"
    }
   ],
   "source": [
    "channel"
   ]
  },
  {
   "cell_type": "code",
   "execution_count": 46,
   "metadata": {},
   "outputs": [],
   "source": [
    "channel_churn=(channel.div(channel.sum(axis=1), axis=0)*100).sort_values(by=[1], ascending=False)"
   ]
  },
  {
   "cell_type": "code",
   "execution_count": 48,
   "metadata": {},
   "outputs": [
    {
     "data": {
      "text/html": [
       "<div>\n",
       "<style scoped>\n",
       "    .dataframe tbody tr th:only-of-type {\n",
       "        vertical-align: middle;\n",
       "    }\n",
       "\n",
       "    .dataframe tbody tr th {\n",
       "        vertical-align: top;\n",
       "    }\n",
       "\n",
       "    .dataframe thead th {\n",
       "        text-align: right;\n",
       "    }\n",
       "</style>\n",
       "<table border=\"1\" class=\"dataframe\">\n",
       "  <thead>\n",
       "    <tr style=\"text-align: right;\">\n",
       "      <th>churn</th>\n",
       "      <th>0</th>\n",
       "      <th>1</th>\n",
       "    </tr>\n",
       "    <tr>\n",
       "      <th>channel_sales</th>\n",
       "      <th></th>\n",
       "      <th></th>\n",
       "    </tr>\n",
       "  </thead>\n",
       "  <tbody>\n",
       "    <tr>\n",
       "      <th>foosdfpfkusacimwkcsosbicdxkicaua</th>\n",
       "      <td>87.501694</td>\n",
       "      <td>12.498306</td>\n",
       "    </tr>\n",
       "    <tr>\n",
       "      <th>usilxuppasemubllopkaafesmlibmsdf</th>\n",
       "      <td>89.612188</td>\n",
       "      <td>10.387812</td>\n",
       "    </tr>\n",
       "    <tr>\n",
       "      <th>ewpakwlliwisiwduibdlfmalxowmwpci</th>\n",
       "      <td>91.511387</td>\n",
       "      <td>8.488613</td>\n",
       "    </tr>\n",
       "    <tr>\n",
       "      <th>lmkebamcaaclubfxadlmueccxoimlema</th>\n",
       "      <td>94.404245</td>\n",
       "      <td>5.595755</td>\n",
       "    </tr>\n",
       "    <tr>\n",
       "      <th>epumfxlbckeskwekxbiuasklxalciiuu</th>\n",
       "      <td>100.000000</td>\n",
       "      <td>0.000000</td>\n",
       "    </tr>\n",
       "    <tr>\n",
       "      <th>fixdbufsefwooaasfcxdxadsiekoceaa</th>\n",
       "      <td>100.000000</td>\n",
       "      <td>0.000000</td>\n",
       "    </tr>\n",
       "    <tr>\n",
       "      <th>sddiedcslfslkckwlfkdpoeeailfpeds</th>\n",
       "      <td>100.000000</td>\n",
       "      <td>0.000000</td>\n",
       "    </tr>\n",
       "  </tbody>\n",
       "</table>\n",
       "</div>"
      ],
      "text/plain": [
       "churn                                      0          1\n",
       "channel_sales                                          \n",
       "foosdfpfkusacimwkcsosbicdxkicaua   87.501694  12.498306\n",
       "usilxuppasemubllopkaafesmlibmsdf   89.612188  10.387812\n",
       "ewpakwlliwisiwduibdlfmalxowmwpci   91.511387   8.488613\n",
       "lmkebamcaaclubfxadlmueccxoimlema   94.404245   5.595755\n",
       "epumfxlbckeskwekxbiuasklxalciiuu  100.000000   0.000000\n",
       "fixdbufsefwooaasfcxdxadsiekoceaa  100.000000   0.000000\n",
       "sddiedcslfslkckwlfkdpoeeailfpeds  100.000000   0.000000"
      ]
     },
     "execution_count": 48,
     "metadata": {},
     "output_type": "execute_result"
    }
   ],
   "source": [
    "channel_churn"
   ]
  },
  {
   "cell_type": "code",
   "execution_count": 61,
   "metadata": {},
   "outputs": [
    {
     "data": {
      "text/plain": [
       "<matplotlib.axes._subplots.AxesSubplot at 0x286f896af88>"
      ]
     },
     "execution_count": 61,
     "metadata": {},
     "output_type": "execute_result"
    },
    {
     "data": {
      "image/png": "[encoded data removed]",
      "text/plain": [
       "<Figure size 1296x720 with 1 Axes>"
      ]
     },
     "metadata": {
      "needs_background": "light"
     },
     "output_type": "display_data"
    }
   ],
   "source": [
    "channel_churn.plot(kind=\"hist\", figsize=(18, 10), width=2, stacked=True,  title=\"Sales Channel\")"
   ]
  },
  {
   "cell_type": "code",
   "execution_count": 62,
   "metadata": {},
   "outputs": [
    {
     "data": {
      "text/html": [
       "<div>\n",
       "<style scoped>\n",
       "    .dataframe tbody tr th:only-of-type {\n",
       "        vertical-align: middle;\n",
       "    }\n",
       "\n",
       "    .dataframe tbody tr th {\n",
       "        vertical-align: top;\n",
       "    }\n",
       "\n",
       "    .dataframe thead th {\n",
       "        text-align: right;\n",
       "    }\n",
       "</style>\n",
       "<table border=\"1\" class=\"dataframe\">\n",
       "  <thead>\n",
       "    <tr style=\"text-align: right;\">\n",
       "      <th></th>\n",
       "      <th>Churn percentage</th>\n",
       "      <th>Total companies</th>\n",
       "    </tr>\n",
       "    <tr>\n",
       "      <th>channel_sales</th>\n",
       "      <th></th>\n",
       "      <th></th>\n",
       "    </tr>\n",
       "  </thead>\n",
       "  <tbody>\n",
       "    <tr>\n",
       "      <th>foosdfpfkusacimwkcsosbicdxkicaua</th>\n",
       "      <td>12.498306</td>\n",
       "      <td>7377.0</td>\n",
       "    </tr>\n",
       "    <tr>\n",
       "      <th>usilxuppasemubllopkaafesmlibmsdf</th>\n",
       "      <td>10.387812</td>\n",
       "      <td>1444.0</td>\n",
       "    </tr>\n",
       "    <tr>\n",
       "      <th>ewpakwlliwisiwduibdlfmalxowmwpci</th>\n",
       "      <td>8.488613</td>\n",
       "      <td>966.0</td>\n",
       "    </tr>\n",
       "    <tr>\n",
       "      <th>lmkebamcaaclubfxadlmueccxoimlema</th>\n",
       "      <td>5.595755</td>\n",
       "      <td>2073.0</td>\n",
       "    </tr>\n",
       "    <tr>\n",
       "      <th>epumfxlbckeskwekxbiuasklxalciiuu</th>\n",
       "      <td>0.000000</td>\n",
       "      <td>4.0</td>\n",
       "    </tr>\n",
       "    <tr>\n",
       "      <th>fixdbufsefwooaasfcxdxadsiekoceaa</th>\n",
       "      <td>0.000000</td>\n",
       "      <td>2.0</td>\n",
       "    </tr>\n",
       "    <tr>\n",
       "      <th>sddiedcslfslkckwlfkdpoeeailfpeds</th>\n",
       "      <td>0.000000</td>\n",
       "      <td>12.0</td>\n",
       "    </tr>\n",
       "  </tbody>\n",
       "</table>\n",
       "</div>"
      ],
      "text/plain": [
       "                                  Churn percentage  Total companies\n",
       "channel_sales                                                      \n",
       "foosdfpfkusacimwkcsosbicdxkicaua         12.498306           7377.0\n",
       "usilxuppasemubllopkaafesmlibmsdf         10.387812           1444.0\n",
       "ewpakwlliwisiwduibdlfmalxowmwpci          8.488613            966.0\n",
       "lmkebamcaaclubfxadlmueccxoimlema          5.595755           2073.0\n",
       "epumfxlbckeskwekxbiuasklxalciiuu          0.000000              4.0\n",
       "fixdbufsefwooaasfcxdxadsiekoceaa          0.000000              2.0\n",
       "sddiedcslfslkckwlfkdpoeeailfpeds          0.000000             12.0"
      ]
     },
     "execution_count": 62,
     "metadata": {},
     "output_type": "execute_result"
    }
   ],
   "source": [
    "channel_total = channel.fillna(0)[0]+channel.fillna(0)[1]\n",
    "channel_percentage = channel.fillna(0)[1]/(channel_total)*100\n",
    "pd.DataFrame({\"Churn percentage\": channel_percentage, \"Total companies\": channel_total }).sort_values(by=\"Churn percentage\",ascending=False).head(10)\n"
   ]
  },
  {
   "cell_type": "markdown",
   "metadata": {},
   "source": [
    "Consumption"
   ]
  },
  {
   "cell_type": "code",
   "execution_count": 63,
   "metadata": {},
   "outputs": [],
   "source": [
    "consumption = cust_final_data[[\"id\",\"cons_12m\", \"cons_gas_12m\",\"cons_last_month\", \"imp_cons\", \"has_gas\", \"churn\"]]\n"
   ]
  },
  {
   "cell_type": "code",
   "execution_count": 64,
   "metadata": {},
   "outputs": [],
   "source": [
    "def plot_distribution(dataframe, column, ax, bins_=50):\n",
    "    \"\"\"\n",
    "    Plot variable distirbution in a stacked histogram of churned or retained company\n",
    "    \"\"\"\n",
    "    # Create a temporal dataframe with the data to be plot\n",
    "    temp = pd.DataFrame({\"Retention\": dataframe[dataframe[\"churn\"]==0][column],\n",
    "                         \"Churn\":dataframe[dataframe[\"churn\"]==1][column]})\n",
    "    # Plot the histogram\n",
    "    temp[[\"Retention\",\"Churn\"]].plot(kind='hist', bins=bins_, ax=ax, stacked=True)\n",
    "    # X-axis label\n",
    "    ax.set_xlabel(column)\n",
    "    # Change the x-axis to plain style\n",
    "    ax.ticklabel_format(style='plain', axis='x')\n",
    "    "
   ]
  },
  {
   "cell_type": "code",
   "execution_count": 65,
   "metadata": {},
   "outputs": [
    {
     "data": {
      "image/png": "[encoded data removed]",
      "text/plain": [
       "<Figure size 1296x1800 with 4 Axes>"
      ]
     },
     "metadata": {
      "needs_background": "light"
     },
     "output_type": "display_data"
    }
   ],
   "source": [
    "fig, axs = plt.subplots(nrows=4, figsize=(18,25))\n",
    "# Plot histogram\n",
    "plot_distribution(consumption, \"cons_12m\", axs[0])\n",
    "# Note that the gas consumption must have gas contract\n",
    "plot_distribution(consumption[consumption[\"has_gas\"] == \"t\"], \"cons_gas_12m\", axs[1])\n",
    "plot_distribution(consumption, \"cons_last_month\", axs[2])\n",
    "plot_distribution(consumption, \"imp_cons\", axs[3])"
   ]
  },
  {
   "cell_type": "markdown",
   "metadata": {},
   "source": [
    "Data Cleaning"
   ]
  },
  {
   "cell_type": "code",
   "execution_count": 66,
   "metadata": {
    "scrolled": true
   },
   "outputs": [
    {
     "data": {
      "image/png": "[encoded data removed]",
      "text/plain": [
       "<Figure size 1296x720 with 1 Axes>"
      ]
     },
     "metadata": {
      "needs_background": "light"
     },
     "output_type": "display_data"
    }
   ],
   "source": [
    "# Plot missing data\n",
    "(cust_final_data.isnull().sum()/len(cust_final_data.index)*100).plot(kind=\"bar\", figsize=(18,10))\n",
    "# Set axis labels\n",
    "plt.xlabel(\"Variables\")\n",
    "plt.ylabel(\"Missing values (%)\")\n",
    "plt.show()\n"
   ]
  },
  {
   "cell_type": "code",
   "execution_count": 67,
   "metadata": {},
   "outputs": [
    {
     "data": {
      "text/html": [
       "<div>\n",
       "<style scoped>\n",
       "    .dataframe tbody tr th:only-of-type {\n",
       "        vertical-align: middle;\n",
       "    }\n",
       "\n",
       "    .dataframe tbody tr th {\n",
       "        vertical-align: top;\n",
       "    }\n",
       "\n",
       "    .dataframe thead th {\n",
       "        text-align: right;\n",
       "    }\n",
       "</style>\n",
       "<table border=\"1\" class=\"dataframe\">\n",
       "  <thead>\n",
       "    <tr style=\"text-align: right;\">\n",
       "      <th></th>\n",
       "      <th>Dataframe columns</th>\n",
       "    </tr>\n",
       "  </thead>\n",
       "  <tbody>\n",
       "    <tr>\n",
       "      <th>0</th>\n",
       "      <td>id</td>\n",
       "    </tr>\n",
       "    <tr>\n",
       "      <th>1</th>\n",
       "      <td>activity_new</td>\n",
       "    </tr>\n",
       "    <tr>\n",
       "      <th>2</th>\n",
       "      <td>channel_sales</td>\n",
       "    </tr>\n",
       "    <tr>\n",
       "      <th>3</th>\n",
       "      <td>cons_12m</td>\n",
       "    </tr>\n",
       "    <tr>\n",
       "      <th>4</th>\n",
       "      <td>cons_gas_12m</td>\n",
       "    </tr>\n",
       "    <tr>\n",
       "      <th>5</th>\n",
       "      <td>cons_last_month</td>\n",
       "    </tr>\n",
       "    <tr>\n",
       "      <th>6</th>\n",
       "      <td>date_activ</td>\n",
       "    </tr>\n",
       "    <tr>\n",
       "      <th>7</th>\n",
       "      <td>date_end</td>\n",
       "    </tr>\n",
       "    <tr>\n",
       "      <th>8</th>\n",
       "      <td>date_modif_prod</td>\n",
       "    </tr>\n",
       "    <tr>\n",
       "      <th>9</th>\n",
       "      <td>date_renewal</td>\n",
       "    </tr>\n",
       "    <tr>\n",
       "      <th>10</th>\n",
       "      <td>forecast_cons_12m</td>\n",
       "    </tr>\n",
       "    <tr>\n",
       "      <th>11</th>\n",
       "      <td>forecast_cons_year</td>\n",
       "    </tr>\n",
       "    <tr>\n",
       "      <th>12</th>\n",
       "      <td>forecast_discount_energy</td>\n",
       "    </tr>\n",
       "    <tr>\n",
       "      <th>13</th>\n",
       "      <td>forecast_meter_rent_12m</td>\n",
       "    </tr>\n",
       "    <tr>\n",
       "      <th>14</th>\n",
       "      <td>forecast_price_energy_p1</td>\n",
       "    </tr>\n",
       "    <tr>\n",
       "      <th>15</th>\n",
       "      <td>forecast_price_energy_p2</td>\n",
       "    </tr>\n",
       "    <tr>\n",
       "      <th>16</th>\n",
       "      <td>forecast_price_pow_p1</td>\n",
       "    </tr>\n",
       "    <tr>\n",
       "      <th>17</th>\n",
       "      <td>has_gas</td>\n",
       "    </tr>\n",
       "    <tr>\n",
       "      <th>18</th>\n",
       "      <td>imp_cons</td>\n",
       "    </tr>\n",
       "    <tr>\n",
       "      <th>19</th>\n",
       "      <td>margin_gross_pow_ele</td>\n",
       "    </tr>\n",
       "    <tr>\n",
       "      <th>20</th>\n",
       "      <td>margin_net_pow_ele</td>\n",
       "    </tr>\n",
       "    <tr>\n",
       "      <th>21</th>\n",
       "      <td>nb_prod_act</td>\n",
       "    </tr>\n",
       "    <tr>\n",
       "      <th>22</th>\n",
       "      <td>net_margin</td>\n",
       "    </tr>\n",
       "    <tr>\n",
       "      <th>23</th>\n",
       "      <td>num_years_antig</td>\n",
       "    </tr>\n",
       "    <tr>\n",
       "      <th>24</th>\n",
       "      <td>origin_up</td>\n",
       "    </tr>\n",
       "    <tr>\n",
       "      <th>25</th>\n",
       "      <td>pow_max</td>\n",
       "    </tr>\n",
       "    <tr>\n",
       "      <th>26</th>\n",
       "      <td>churn</td>\n",
       "    </tr>\n",
       "  </tbody>\n",
       "</table>\n",
       "</div>"
      ],
      "text/plain": [
       "           Dataframe columns\n",
       "0                         id\n",
       "1               activity_new\n",
       "2              channel_sales\n",
       "3                   cons_12m\n",
       "4               cons_gas_12m\n",
       "5            cons_last_month\n",
       "6                 date_activ\n",
       "7                   date_end\n",
       "8            date_modif_prod\n",
       "9               date_renewal\n",
       "10         forecast_cons_12m\n",
       "11        forecast_cons_year\n",
       "12  forecast_discount_energy\n",
       "13   forecast_meter_rent_12m\n",
       "14  forecast_price_energy_p1\n",
       "15  forecast_price_energy_p2\n",
       "16     forecast_price_pow_p1\n",
       "17                   has_gas\n",
       "18                  imp_cons\n",
       "19      margin_gross_pow_ele\n",
       "20        margin_net_pow_ele\n",
       "21               nb_prod_act\n",
       "22                net_margin\n",
       "23           num_years_antig\n",
       "24                 origin_up\n",
       "25                   pow_max\n",
       "26                     churn"
      ]
     },
     "execution_count": 67,
     "metadata": {},
     "output_type": "execute_result"
    }
   ],
   "source": [
    "pd.DataFrame({\"Dataframe columns\": cust_final_data.columns})"
   ]
  },
  {
   "cell_type": "markdown",
   "metadata": {},
   "source": [
    "Duplicates"
   ]
  },
  {
   "cell_type": "code",
   "execution_count": 68,
   "metadata": {},
   "outputs": [
    {
     "data": {
      "text/html": [
       "<div>\n",
       "<style scoped>\n",
       "    .dataframe tbody tr th:only-of-type {\n",
       "        vertical-align: middle;\n",
       "    }\n",
       "\n",
       "    .dataframe tbody tr th {\n",
       "        vertical-align: top;\n",
       "    }\n",
       "\n",
       "    .dataframe thead th {\n",
       "        text-align: right;\n",
       "    }\n",
       "</style>\n",
       "<table border=\"1\" class=\"dataframe\">\n",
       "  <thead>\n",
       "    <tr style=\"text-align: right;\">\n",
       "      <th></th>\n",
       "      <th>id</th>\n",
       "      <th>activity_new</th>\n",
       "      <th>channel_sales</th>\n",
       "      <th>cons_12m</th>\n",
       "      <th>cons_gas_12m</th>\n",
       "      <th>cons_last_month</th>\n",
       "      <th>date_activ</th>\n",
       "      <th>date_end</th>\n",
       "      <th>date_modif_prod</th>\n",
       "      <th>date_renewal</th>\n",
       "      <th>...</th>\n",
       "      <th>has_gas</th>\n",
       "      <th>imp_cons</th>\n",
       "      <th>margin_gross_pow_ele</th>\n",
       "      <th>margin_net_pow_ele</th>\n",
       "      <th>nb_prod_act</th>\n",
       "      <th>net_margin</th>\n",
       "      <th>num_years_antig</th>\n",
       "      <th>origin_up</th>\n",
       "      <th>pow_max</th>\n",
       "      <th>churn</th>\n",
       "    </tr>\n",
       "  </thead>\n",
       "  <tbody>\n",
       "  </tbody>\n",
       "</table>\n",
       "<p>0 rows × 27 columns</p>\n",
       "</div>"
      ],
      "text/plain": [
       "Empty DataFrame\n",
       "Columns: [id, activity_new, channel_sales, cons_12m, cons_gas_12m, cons_last_month, date_activ, date_end, date_modif_prod, date_renewal, forecast_cons_12m, forecast_cons_year, forecast_discount_energy, forecast_meter_rent_12m, forecast_price_energy_p1, forecast_price_energy_p2, forecast_price_pow_p1, has_gas, imp_cons, margin_gross_pow_ele, margin_net_pow_ele, nb_prod_act, net_margin, num_years_antig, origin_up, pow_max, churn]\n",
       "Index: []\n",
       "\n",
       "[0 rows x 27 columns]"
      ]
     },
     "execution_count": 68,
     "metadata": {},
     "output_type": "execute_result"
    }
   ],
   "source": [
    "cust_final_data[cust_final_data.duplicated()]"
   ]
  },
  {
   "cell_type": "markdown",
   "metadata": {},
   "source": [
    "Formatting Data or Filling Missing Data"
   ]
  },
  {
   "cell_type": "code",
   "execution_count": 73,
   "metadata": {},
   "outputs": [
    {
     "data": {
      "text/plain": [
       "157"
      ]
     },
     "execution_count": 73,
     "metadata": {},
     "output_type": "execute_result"
    }
   ],
   "source": [
    " cust_final_data[\"date_modif_prod\"].isnull().sum()"
   ]
  },
  {
   "cell_type": "code",
   "execution_count": 74,
   "metadata": {},
   "outputs": [
    {
     "data": {
      "text/plain": [
       "2"
      ]
     },
     "execution_count": 74,
     "metadata": {},
     "output_type": "execute_result"
    }
   ],
   "source": [
    " cust_final_data[\"date_end\"].isnull().sum()"
   ]
  },
  {
   "cell_type": "code",
   "execution_count": 75,
   "metadata": {},
   "outputs": [
    {
     "data": {
      "text/plain": [
       "40"
      ]
     },
     "execution_count": 75,
     "metadata": {},
     "output_type": "execute_result"
    }
   ],
   "source": [
    "cust_final_data[\"date_renewal\"].isnull().sum()"
   ]
  },
  {
   "cell_type": "markdown",
   "metadata": {},
   "source": [
    "Filling the missing dates with first value of the column"
   ]
  },
  {
   "cell_type": "code",
   "execution_count": 78,
   "metadata": {},
   "outputs": [],
   "source": [
    "cust_final_data.loc[cust_final_data[\"date_modif_prod\"].isnull(),\"date_modif_prod\"] = cust_final_data[\"date_modif_prod\"].value_counts().index[0]\n",
    "cust_final_data.loc[cust_final_data[\"date_end\"].isnull(),\"date_end\"] = cust_final_data[\"date_end\"].value_counts().index[0]\n",
    "cust_final_data.loc[cust_final_data[\"date_renewal\"].isnull(),\"date_renewal\"] = cust_final_data[\"date_renewal\"].value_counts().index[0]\n"
   ]
  },
  {
   "cell_type": "markdown",
   "metadata": {},
   "source": [
    "Missing Data"
   ]
  },
  {
   "cell_type": "code",
   "execution_count": 79,
   "metadata": {},
   "outputs": [],
   "source": [
    "missing_data_percentage = cust_pay.isnull().sum()/len(cust_pay.index)*100"
   ]
  },
  {
   "cell_type": "code",
   "execution_count": 80,
   "metadata": {},
   "outputs": [
    {
     "data": {
      "image/png": "[encoded data removed]",
      "text/plain": [
       "<Figure size 1296x720 with 1 Axes>"
      ]
     },
     "metadata": {
      "needs_background": "light"
     },
     "output_type": "display_data"
    }
   ],
   "source": [
    "missing_data_percentage.plot(kind=\"bar\", figsize=(18,10))\n",
    "# Set labels\n",
    "plt.xlabel(\"Variables\")\n",
    "plt.ylabel(\"Missing values (%)\")\n",
    "plt.show()"
   ]
  },
  {
   "cell_type": "markdown",
   "metadata": {},
   "source": [
    "There is not much data missing. Instead of removing the entries that are empty we will simply substitute them with the median .\n",
    "Note: We could use something slightly more complicated such as using the mean of the previous and following months to calculate the value of the\n",
    "missing month since the data does not vary much."
   ]
  },
  {
   "cell_type": "code",
   "execution_count": 81,
   "metadata": {},
   "outputs": [
    {
     "data": {
      "text/html": [
       "<div>\n",
       "<style scoped>\n",
       "    .dataframe tbody tr th:only-of-type {\n",
       "        vertical-align: middle;\n",
       "    }\n",
       "\n",
       "    .dataframe tbody tr th {\n",
       "        vertical-align: top;\n",
       "    }\n",
       "\n",
       "    .dataframe thead th {\n",
       "        text-align: right;\n",
       "    }\n",
       "</style>\n",
       "<table border=\"1\" class=\"dataframe\">\n",
       "  <thead>\n",
       "    <tr style=\"text-align: right;\">\n",
       "      <th></th>\n",
       "      <th>id</th>\n",
       "      <th>price_date</th>\n",
       "      <th>price_p1_var</th>\n",
       "      <th>price_p2_var</th>\n",
       "      <th>price_p3_var</th>\n",
       "      <th>price_p1_fix</th>\n",
       "      <th>price_p2_fix</th>\n",
       "      <th>price_p3_fix</th>\n",
       "    </tr>\n",
       "  </thead>\n",
       "  <tbody>\n",
       "    <tr>\n",
       "      <th>75</th>\n",
       "      <td>ef716222bbd97a8bdfcbb831e3575560</td>\n",
       "      <td>2015-04-01</td>\n",
       "      <td>NaN</td>\n",
       "      <td>NaN</td>\n",
       "      <td>NaN</td>\n",
       "      <td>NaN</td>\n",
       "      <td>NaN</td>\n",
       "      <td>NaN</td>\n",
       "    </tr>\n",
       "    <tr>\n",
       "      <th>221</th>\n",
       "      <td>0f5231100b2febab862f8dd8eaab3f43</td>\n",
       "      <td>2015-06-01</td>\n",
       "      <td>NaN</td>\n",
       "      <td>NaN</td>\n",
       "      <td>NaN</td>\n",
       "      <td>NaN</td>\n",
       "      <td>NaN</td>\n",
       "      <td>NaN</td>\n",
       "    </tr>\n",
       "    <tr>\n",
       "      <th>377</th>\n",
       "      <td>2f93639de582fadfbe3e86ce1c8d8f35</td>\n",
       "      <td>2015-06-01</td>\n",
       "      <td>NaN</td>\n",
       "      <td>NaN</td>\n",
       "      <td>NaN</td>\n",
       "      <td>NaN</td>\n",
       "      <td>NaN</td>\n",
       "      <td>NaN</td>\n",
       "    </tr>\n",
       "    <tr>\n",
       "      <th>413</th>\n",
       "      <td>f83c1ab1ca1d1802bb1df4d72820243c</td>\n",
       "      <td>2015-06-01</td>\n",
       "      <td>NaN</td>\n",
       "      <td>NaN</td>\n",
       "      <td>NaN</td>\n",
       "      <td>NaN</td>\n",
       "      <td>NaN</td>\n",
       "      <td>NaN</td>\n",
       "    </tr>\n",
       "    <tr>\n",
       "      <th>461</th>\n",
       "      <td>3076c6d4a060e12a049d1700d9b09cf3</td>\n",
       "      <td>2015-06-01</td>\n",
       "      <td>NaN</td>\n",
       "      <td>NaN</td>\n",
       "      <td>NaN</td>\n",
       "      <td>NaN</td>\n",
       "      <td>NaN</td>\n",
       "      <td>NaN</td>\n",
       "    </tr>\n",
       "    <tr>\n",
       "      <th>...</th>\n",
       "      <td>...</td>\n",
       "      <td>...</td>\n",
       "      <td>...</td>\n",
       "      <td>...</td>\n",
       "      <td>...</td>\n",
       "      <td>...</td>\n",
       "      <td>...</td>\n",
       "      <td>...</td>\n",
       "    </tr>\n",
       "    <tr>\n",
       "      <th>192767</th>\n",
       "      <td>2dc2c9a9f6e6896d9a07d7bcbb9d0ce9</td>\n",
       "      <td>2015-06-01</td>\n",
       "      <td>NaN</td>\n",
       "      <td>NaN</td>\n",
       "      <td>NaN</td>\n",
       "      <td>NaN</td>\n",
       "      <td>NaN</td>\n",
       "      <td>NaN</td>\n",
       "    </tr>\n",
       "    <tr>\n",
       "      <th>192788</th>\n",
       "      <td>e4053a0ad6c55e4665e8e9adb9f75db5</td>\n",
       "      <td>2015-03-01</td>\n",
       "      <td>NaN</td>\n",
       "      <td>NaN</td>\n",
       "      <td>NaN</td>\n",
       "      <td>NaN</td>\n",
       "      <td>NaN</td>\n",
       "      <td>NaN</td>\n",
       "    </tr>\n",
       "    <tr>\n",
       "      <th>192875</th>\n",
       "      <td>1a788ca3bfb16ce443dcf7d75e702b5d</td>\n",
       "      <td>2015-06-01</td>\n",
       "      <td>NaN</td>\n",
       "      <td>NaN</td>\n",
       "      <td>NaN</td>\n",
       "      <td>NaN</td>\n",
       "      <td>NaN</td>\n",
       "      <td>NaN</td>\n",
       "    </tr>\n",
       "    <tr>\n",
       "      <th>192876</th>\n",
       "      <td>1a788ca3bfb16ce443dcf7d75e702b5d</td>\n",
       "      <td>2015-07-01</td>\n",
       "      <td>NaN</td>\n",
       "      <td>NaN</td>\n",
       "      <td>NaN</td>\n",
       "      <td>NaN</td>\n",
       "      <td>NaN</td>\n",
       "      <td>NaN</td>\n",
       "    </tr>\n",
       "    <tr>\n",
       "      <th>192886</th>\n",
       "      <td>d625f9e90d4af9986197444361e99235</td>\n",
       "      <td>2015-05-01</td>\n",
       "      <td>NaN</td>\n",
       "      <td>NaN</td>\n",
       "      <td>NaN</td>\n",
       "      <td>NaN</td>\n",
       "      <td>NaN</td>\n",
       "      <td>NaN</td>\n",
       "    </tr>\n",
       "  </tbody>\n",
       "</table>\n",
       "<p>1359 rows × 8 columns</p>\n",
       "</div>"
      ],
      "text/plain": [
       "                                      id  price_date  price_p1_var  \\\n",
       "75      ef716222bbd97a8bdfcbb831e3575560  2015-04-01           NaN   \n",
       "221     0f5231100b2febab862f8dd8eaab3f43  2015-06-01           NaN   \n",
       "377     2f93639de582fadfbe3e86ce1c8d8f35  2015-06-01           NaN   \n",
       "413     f83c1ab1ca1d1802bb1df4d72820243c  2015-06-01           NaN   \n",
       "461     3076c6d4a060e12a049d1700d9b09cf3  2015-06-01           NaN   \n",
       "...                                  ...         ...           ...   \n",
       "192767  2dc2c9a9f6e6896d9a07d7bcbb9d0ce9  2015-06-01           NaN   \n",
       "192788  e4053a0ad6c55e4665e8e9adb9f75db5  2015-03-01           NaN   \n",
       "192875  1a788ca3bfb16ce443dcf7d75e702b5d  2015-06-01           NaN   \n",
       "192876  1a788ca3bfb16ce443dcf7d75e702b5d  2015-07-01           NaN   \n",
       "192886  d625f9e90d4af9986197444361e99235  2015-05-01           NaN   \n",
       "\n",
       "        price_p2_var  price_p3_var  price_p1_fix  price_p2_fix  price_p3_fix  \n",
       "75               NaN           NaN           NaN           NaN           NaN  \n",
       "221              NaN           NaN           NaN           NaN           NaN  \n",
       "377              NaN           NaN           NaN           NaN           NaN  \n",
       "413              NaN           NaN           NaN           NaN           NaN  \n",
       "461              NaN           NaN           NaN           NaN           NaN  \n",
       "...              ...           ...           ...           ...           ...  \n",
       "192767           NaN           NaN           NaN           NaN           NaN  \n",
       "192788           NaN           NaN           NaN           NaN           NaN  \n",
       "192875           NaN           NaN           NaN           NaN           NaN  \n",
       "192876           NaN           NaN           NaN           NaN           NaN  \n",
       "192886           NaN           NaN           NaN           NaN           NaN  \n",
       "\n",
       "[1359 rows x 8 columns]"
      ]
     },
     "execution_count": 81,
     "metadata": {},
     "output_type": "execute_result"
    }
   ],
   "source": [
    "cust_pay[cust_pay.isnull().any(axis=1)]\n"
   ]
  },
  {
   "cell_type": "markdown",
   "metadata": {},
   "source": [
    "Calculating the Median for all the columns"
   ]
  },
  {
   "cell_type": "code",
   "execution_count": 82,
   "metadata": {},
   "outputs": [],
   "source": [
    "cust_pay.loc[cust_pay[\"price_p1_var\"].isnull(),\"price_p1_var\"] = cust_pay[\"price_p1_var\"].median()\n",
    "cust_pay.loc[cust_pay[\"price_p2_var\"].isnull(),\"price_p2_var\"] = cust_pay[\"price_p2_var\"].median()\n",
    "cust_pay.loc[cust_pay[\"price_p3_var\"].isnull(),\"price_p3_var\"] = cust_pay[\"price_p3_var\"].median()\n",
    "cust_pay.loc[cust_pay[\"price_p1_fix\"].isnull(),\"price_p1_fix\"] = cust_pay[\"price_p1_fix\"].median()\n",
    "cust_pay.loc[cust_pay[\"price_p2_fix\"].isnull(),\"price_p2_fix\"] = cust_pay[\"price_p2_fix\"].median()\n",
    "cust_pay.loc[cust_pay[\"price_p3_fix\"].isnull(),\"price_p3_fix\"] = cust_pay[\"price_p3_fix\"].median()\n"
   ]
  },
  {
   "cell_type": "markdown",
   "metadata": {},
   "source": [
    "Formating Cust_pay data dates"
   ]
  },
  {
   "cell_type": "code",
   "execution_count": 83,
   "metadata": {},
   "outputs": [],
   "source": [
    "cust_pay[\"price_date\"] = pd.to_datetime(cust_pay[\"price_date\"], format='%Y-%m-%d')"
   ]
  },
  {
   "cell_type": "code",
   "execution_count": 85,
   "metadata": {},
   "outputs": [
    {
     "data": {
      "image/png": "[encoded data removed]",
      "text/plain": [
       "<Figure size 1296x3600 with 7 Axes>"
      ]
     },
     "metadata": {
      "needs_background": "light"
     },
     "output_type": "display_data"
    }
   ],
   "source": [
    " fig, axs = plt.subplots(nrows=7, figsize=(18,50))\n",
    "# Plot boxplots\n",
    "sns.boxplot((cust_final_data[\"cons_12m\"].dropna()), ax=axs[0])\n",
    "sns.boxplot((cust_final_data[cust_final_data[\"has_gas\"]==1][\"cons_gas_12m\"].dropna()), ax=axs[1])\n",
    "sns.boxplot((cust_final_data[\"cons_last_month\"].dropna()), ax=axs[2])\n",
    "sns.boxplot((cust_final_data[\"forecast_cons_12m\"].dropna()), ax=axs[3])\n",
    "#sns.boxplot((train[\"forecast_cons_year\"].dropna()), ax=axs[4])\n",
    "sns.boxplot((cust_final_data[\"forecast_meter_rent_12m\"].dropna()), ax=axs[5])\n",
    "sns.boxplot((cust_final_data[\"imp_cons\"].dropna()), ax=axs[6])\n",
    "plt.show()"
   ]
  },
  {
   "cell_type": "markdown",
   "metadata": {},
   "source": [
    "Negative Data in cust_pay"
   ]
  },
  {
   "cell_type": "code",
   "execution_count": 87,
   "metadata": {},
   "outputs": [
    {
     "data": {
      "text/html": [
       "<div>\n",
       "<style scoped>\n",
       "    .dataframe tbody tr th:only-of-type {\n",
       "        vertical-align: middle;\n",
       "    }\n",
       "\n",
       "    .dataframe tbody tr th {\n",
       "        vertical-align: top;\n",
       "    }\n",
       "\n",
       "    .dataframe thead th {\n",
       "        text-align: right;\n",
       "    }\n",
       "</style>\n",
       "<table border=\"1\" class=\"dataframe\">\n",
       "  <thead>\n",
       "    <tr style=\"text-align: right;\">\n",
       "      <th></th>\n",
       "      <th>price_p1_var</th>\n",
       "      <th>price_p2_var</th>\n",
       "      <th>price_p3_var</th>\n",
       "      <th>price_p1_fix</th>\n",
       "      <th>price_p2_fix</th>\n",
       "      <th>price_p3_fix</th>\n",
       "    </tr>\n",
       "  </thead>\n",
       "  <tbody>\n",
       "    <tr>\n",
       "      <th>count</th>\n",
       "      <td>193002.000000</td>\n",
       "      <td>193002.000000</td>\n",
       "      <td>193002.000000</td>\n",
       "      <td>193002.000000</td>\n",
       "      <td>193002.000000</td>\n",
       "      <td>193002.000000</td>\n",
       "    </tr>\n",
       "    <tr>\n",
       "      <th>mean</th>\n",
       "      <td>0.141027</td>\n",
       "      <td>0.054630</td>\n",
       "      <td>0.030496</td>\n",
       "      <td>43.332175</td>\n",
       "      <td>10.622871</td>\n",
       "      <td>6.409981</td>\n",
       "    </tr>\n",
       "    <tr>\n",
       "      <th>std</th>\n",
       "      <td>0.025032</td>\n",
       "      <td>0.049924</td>\n",
       "      <td>0.036298</td>\n",
       "      <td>5.419345</td>\n",
       "      <td>12.841899</td>\n",
       "      <td>7.773595</td>\n",
       "    </tr>\n",
       "    <tr>\n",
       "      <th>min</th>\n",
       "      <td>0.000000</td>\n",
       "      <td>0.000000</td>\n",
       "      <td>0.000000</td>\n",
       "      <td>-0.177779</td>\n",
       "      <td>-0.097752</td>\n",
       "      <td>-0.065172</td>\n",
       "    </tr>\n",
       "    <tr>\n",
       "      <th>25%</th>\n",
       "      <td>0.125976</td>\n",
       "      <td>0.000000</td>\n",
       "      <td>0.000000</td>\n",
       "      <td>40.728885</td>\n",
       "      <td>0.000000</td>\n",
       "      <td>0.000000</td>\n",
       "    </tr>\n",
       "    <tr>\n",
       "      <th>50%</th>\n",
       "      <td>0.146033</td>\n",
       "      <td>0.085483</td>\n",
       "      <td>0.000000</td>\n",
       "      <td>44.266930</td>\n",
       "      <td>0.000000</td>\n",
       "      <td>0.000000</td>\n",
       "    </tr>\n",
       "    <tr>\n",
       "      <th>75%</th>\n",
       "      <td>0.151635</td>\n",
       "      <td>0.101673</td>\n",
       "      <td>0.072558</td>\n",
       "      <td>44.444710</td>\n",
       "      <td>24.339581</td>\n",
       "      <td>16.226389</td>\n",
       "    </tr>\n",
       "    <tr>\n",
       "      <th>max</th>\n",
       "      <td>0.280700</td>\n",
       "      <td>0.229788</td>\n",
       "      <td>0.114102</td>\n",
       "      <td>59.444710</td>\n",
       "      <td>36.490692</td>\n",
       "      <td>17.458221</td>\n",
       "    </tr>\n",
       "  </tbody>\n",
       "</table>\n",
       "</div>"
      ],
      "text/plain": [
       "        price_p1_var   price_p2_var   price_p3_var   price_p1_fix  \\\n",
       "count  193002.000000  193002.000000  193002.000000  193002.000000   \n",
       "mean        0.141027       0.054630       0.030496      43.332175   \n",
       "std         0.025032       0.049924       0.036298       5.419345   \n",
       "min         0.000000       0.000000       0.000000      -0.177779   \n",
       "25%         0.125976       0.000000       0.000000      40.728885   \n",
       "50%         0.146033       0.085483       0.000000      44.266930   \n",
       "75%         0.151635       0.101673       0.072558      44.444710   \n",
       "max         0.280700       0.229788       0.114102      59.444710   \n",
       "\n",
       "        price_p2_fix   price_p3_fix  \n",
       "count  193002.000000  193002.000000  \n",
       "mean       10.622871       6.409981  \n",
       "std        12.841899       7.773595  \n",
       "min        -0.097752      -0.065172  \n",
       "25%         0.000000       0.000000  \n",
       "50%         0.000000       0.000000  \n",
       "75%        24.339581      16.226389  \n",
       "max        36.490692      17.458221  "
      ]
     },
     "execution_count": 87,
     "metadata": {},
     "output_type": "execute_result"
    }
   ],
   "source": [
    "cust_pay.describe()\n"
   ]
  },
  {
   "cell_type": "markdown",
   "metadata": {},
   "source": [
    "We can see that there are negative values for price_p1_fix , price_p2_fix and price_p3_fix .\n",
    "Further exploring on those we can see there are only about 10 entries which are negative. This is more likely to be due to corrupted data rather than\n",
    "a \"price discount\".\n",
    "We will replace the negative values with the median (most frequent value)"
   ]
  },
  {
   "cell_type": "code",
   "execution_count": 89,
   "metadata": {},
   "outputs": [
    {
     "data": {
      "text/html": [
       "<div>\n",
       "<style scoped>\n",
       "    .dataframe tbody tr th:only-of-type {\n",
       "        vertical-align: middle;\n",
       "    }\n",
       "\n",
       "    .dataframe tbody tr th {\n",
       "        vertical-align: top;\n",
       "    }\n",
       "\n",
       "    .dataframe thead th {\n",
       "        text-align: right;\n",
       "    }\n",
       "</style>\n",
       "<table border=\"1\" class=\"dataframe\">\n",
       "  <thead>\n",
       "    <tr style=\"text-align: right;\">\n",
       "      <th></th>\n",
       "      <th>id</th>\n",
       "      <th>price_date</th>\n",
       "      <th>price_p1_var</th>\n",
       "      <th>price_p2_var</th>\n",
       "      <th>price_p3_var</th>\n",
       "      <th>price_p1_fix</th>\n",
       "      <th>price_p2_fix</th>\n",
       "      <th>price_p3_fix</th>\n",
       "    </tr>\n",
       "  </thead>\n",
       "  <tbody>\n",
       "    <tr>\n",
       "      <th>23138</th>\n",
       "      <td>951d99fe07ca94c2139f43bc37095139</td>\n",
       "      <td>2015-03-01</td>\n",
       "      <td>0.125976</td>\n",
       "      <td>0.103395</td>\n",
       "      <td>0.071536</td>\n",
       "      <td>-0.162916</td>\n",
       "      <td>-0.097749</td>\n",
       "      <td>-0.065166</td>\n",
       "    </tr>\n",
       "    <tr>\n",
       "      <th>28350</th>\n",
       "      <td>f7bdc6fa1067cd26fd80bfb9f3fca28f</td>\n",
       "      <td>2015-03-01</td>\n",
       "      <td>0.131032</td>\n",
       "      <td>0.108896</td>\n",
       "      <td>0.076955</td>\n",
       "      <td>-0.162916</td>\n",
       "      <td>-0.097749</td>\n",
       "      <td>-0.065166</td>\n",
       "    </tr>\n",
       "    <tr>\n",
       "      <th>98575</th>\n",
       "      <td>9b523ad5ba8aa2e524dcda5b3d54dab2</td>\n",
       "      <td>2015-02-01</td>\n",
       "      <td>0.129444</td>\n",
       "      <td>0.106863</td>\n",
       "      <td>0.075004</td>\n",
       "      <td>-0.162916</td>\n",
       "      <td>-0.097749</td>\n",
       "      <td>-0.065166</td>\n",
       "    </tr>\n",
       "    <tr>\n",
       "      <th>113467</th>\n",
       "      <td>cfd098ee6c567eb32374c77d20571bc7</td>\n",
       "      <td>2015-02-01</td>\n",
       "      <td>0.123086</td>\n",
       "      <td>0.100505</td>\n",
       "      <td>0.068646</td>\n",
       "      <td>-0.162916</td>\n",
       "      <td>-0.097749</td>\n",
       "      <td>-0.065166</td>\n",
       "    </tr>\n",
       "    <tr>\n",
       "      <th>118467</th>\n",
       "      <td>51d7d8a0bf6b8bd94f8c1de7942c66ea</td>\n",
       "      <td>2015-07-01</td>\n",
       "      <td>0.128132</td>\n",
       "      <td>0.105996</td>\n",
       "      <td>0.074056</td>\n",
       "      <td>-0.162912</td>\n",
       "      <td>-0.097752</td>\n",
       "      <td>-0.065172</td>\n",
       "    </tr>\n",
       "    <tr>\n",
       "      <th>125819</th>\n",
       "      <td>decc0a647016e183ded972595cd2b9fb</td>\n",
       "      <td>2015-03-01</td>\n",
       "      <td>0.124937</td>\n",
       "      <td>0.102814</td>\n",
       "      <td>0.069071</td>\n",
       "      <td>-0.162916</td>\n",
       "      <td>-0.097749</td>\n",
       "      <td>-0.065166</td>\n",
       "    </tr>\n",
       "    <tr>\n",
       "      <th>128761</th>\n",
       "      <td>cc214d7c05de3ee17a7691e274ac488e</td>\n",
       "      <td>2015-06-01</td>\n",
       "      <td>0.124675</td>\n",
       "      <td>0.102539</td>\n",
       "      <td>0.070596</td>\n",
       "      <td>-0.162912</td>\n",
       "      <td>-0.097752</td>\n",
       "      <td>-0.065172</td>\n",
       "    </tr>\n",
       "    <tr>\n",
       "      <th>141011</th>\n",
       "      <td>2a4ed325054472e03cdcc9a34693be4b</td>\n",
       "      <td>2015-02-01</td>\n",
       "      <td>0.167317</td>\n",
       "      <td>0.083347</td>\n",
       "      <td>0.000000</td>\n",
       "      <td>-0.177779</td>\n",
       "      <td>0.000000</td>\n",
       "      <td>0.000000</td>\n",
       "    </tr>\n",
       "    <tr>\n",
       "      <th>160827</th>\n",
       "      <td>395a6f41bbd1a0f23a64f00645264e78</td>\n",
       "      <td>2015-04-01</td>\n",
       "      <td>0.121352</td>\n",
       "      <td>0.098771</td>\n",
       "      <td>0.066912</td>\n",
       "      <td>-0.162916</td>\n",
       "      <td>-0.097749</td>\n",
       "      <td>-0.065166</td>\n",
       "    </tr>\n",
       "    <tr>\n",
       "      <th>181811</th>\n",
       "      <td>d4a84ff4ec620151ef05bdef0cf27eab</td>\n",
       "      <td>2015-05-01</td>\n",
       "      <td>0.125976</td>\n",
       "      <td>0.103395</td>\n",
       "      <td>0.071536</td>\n",
       "      <td>-0.162916</td>\n",
       "      <td>-0.097749</td>\n",
       "      <td>-0.065166</td>\n",
       "    </tr>\n",
       "  </tbody>\n",
       "</table>\n",
       "</div>"
      ],
      "text/plain": [
       "                                      id price_date  price_p1_var  \\\n",
       "23138   951d99fe07ca94c2139f43bc37095139 2015-03-01      0.125976   \n",
       "28350   f7bdc6fa1067cd26fd80bfb9f3fca28f 2015-03-01      0.131032   \n",
       "98575   9b523ad5ba8aa2e524dcda5b3d54dab2 2015-02-01      0.129444   \n",
       "113467  cfd098ee6c567eb32374c77d20571bc7 2015-02-01      0.123086   \n",
       "118467  51d7d8a0bf6b8bd94f8c1de7942c66ea 2015-07-01      0.128132   \n",
       "125819  decc0a647016e183ded972595cd2b9fb 2015-03-01      0.124937   \n",
       "128761  cc214d7c05de3ee17a7691e274ac488e 2015-06-01      0.124675   \n",
       "141011  2a4ed325054472e03cdcc9a34693be4b 2015-02-01      0.167317   \n",
       "160827  395a6f41bbd1a0f23a64f00645264e78 2015-04-01      0.121352   \n",
       "181811  d4a84ff4ec620151ef05bdef0cf27eab 2015-05-01      0.125976   \n",
       "\n",
       "        price_p2_var  price_p3_var  price_p1_fix  price_p2_fix  price_p3_fix  \n",
       "23138       0.103395      0.071536     -0.162916     -0.097749     -0.065166  \n",
       "28350       0.108896      0.076955     -0.162916     -0.097749     -0.065166  \n",
       "98575       0.106863      0.075004     -0.162916     -0.097749     -0.065166  \n",
       "113467      0.100505      0.068646     -0.162916     -0.097749     -0.065166  \n",
       "118467      0.105996      0.074056     -0.162912     -0.097752     -0.065172  \n",
       "125819      0.102814      0.069071     -0.162916     -0.097749     -0.065166  \n",
       "128761      0.102539      0.070596     -0.162912     -0.097752     -0.065172  \n",
       "141011      0.083347      0.000000     -0.177779      0.000000      0.000000  \n",
       "160827      0.098771      0.066912     -0.162916     -0.097749     -0.065166  \n",
       "181811      0.103395      0.071536     -0.162916     -0.097749     -0.065166  "
      ]
     },
     "execution_count": 89,
     "metadata": {},
     "output_type": "execute_result"
    }
   ],
   "source": [
    "cust_pay[(cust_pay.price_p1_fix < 0) | (cust_pay.price_p2_fix < 0) | (cust_pay.price_p3_fix < 0)]"
   ]
  },
  {
   "cell_type": "code",
   "execution_count": 90,
   "metadata": {},
   "outputs": [],
   "source": [
    "cust_pay.loc[cust_pay[\"price_p1_fix\"] < 0,\"price_p1_fix\"] = cust_pay[\"price_p1_fix\"].median()\n",
    "cust_pay.loc[cust_pay[\"price_p2_fix\"] < 0,\"price_p2_fix\"] = cust_pay[\"price_p2_fix\"].median()\n",
    "cust_pay.loc[cust_pay[\"price_p3_fix\"] < 0,\"price_p3_fix\"] = cust_pay[\"price_p3_fix\"].median()"
   ]
  },
  {
   "cell_type": "code",
   "execution_count": 91,
   "metadata": {},
   "outputs": [
    {
     "data": {
      "text/html": [
       "<div>\n",
       "<style scoped>\n",
       "    .dataframe tbody tr th:only-of-type {\n",
       "        vertical-align: middle;\n",
       "    }\n",
       "\n",
       "    .dataframe tbody tr th {\n",
       "        vertical-align: top;\n",
       "    }\n",
       "\n",
       "    .dataframe thead th {\n",
       "        text-align: right;\n",
       "    }\n",
       "</style>\n",
       "<table border=\"1\" class=\"dataframe\">\n",
       "  <thead>\n",
       "    <tr style=\"text-align: right;\">\n",
       "      <th></th>\n",
       "      <th>id</th>\n",
       "      <th>price_date</th>\n",
       "      <th>price_p1_var</th>\n",
       "      <th>price_p2_var</th>\n",
       "      <th>price_p3_var</th>\n",
       "      <th>price_p1_fix</th>\n",
       "      <th>price_p2_fix</th>\n",
       "      <th>price_p3_fix</th>\n",
       "    </tr>\n",
       "  </thead>\n",
       "  <tbody>\n",
       "  </tbody>\n",
       "</table>\n",
       "</div>"
      ],
      "text/plain": [
       "Empty DataFrame\n",
       "Columns: [id, price_date, price_p1_var, price_p2_var, price_p3_var, price_p1_fix, price_p2_fix, price_p3_fix]\n",
       "Index: []"
      ]
     },
     "execution_count": 91,
     "metadata": {},
     "output_type": "execute_result"
    }
   ],
   "source": [
    "cust_pay[(cust_pay.price_p1_fix < 0) | (cust_pay.price_p2_fix < 0) | (cust_pay.price_p3_fix < 0)]"
   ]
  },
  {
   "cell_type": "markdown",
   "metadata": {},
   "source": [
    "NO NEGATIVE VALUES"
   ]
  },
  {
   "cell_type": "markdown",
   "metadata": {},
   "source": [
    "Pickling"
   ]
  },
  {
   "cell_type": "code",
   "execution_count": 93,
   "metadata": {},
   "outputs": [],
   "source": [
    "import os"
   ]
  },
  {
   "cell_type": "code",
   "execution_count": 97,
   "metadata": {},
   "outputs": [],
   "source": [
    "if not os.path.exists(os.path.join(\"C:/Users/saivi/Documents/BCG\", \"processed_data\")):\n",
    "    os.makedirs(os.path.join(\"C:/Users/saivi/Documents/BCG\", \"processed_data\"))\n"
   ]
  },
  {
   "cell_type": "code",
   "execution_count": 98,
   "metadata": {},
   "outputs": [],
   "source": [
    "PICKLE_TRAIN_DIR = os.path.join(\"C:/Users/saivi/Documents/BCG\", \"processed_data\", \"train_data.pkl\")\n",
    "PICKLE_HISTORY_DIR = os.path.join(\"C:/Users/saivi/Documents/BCG\", \"processed_data\", \"cust_pay.pkl\")\n"
   ]
  },
  {
   "cell_type": "code",
   "execution_count": 100,
   "metadata": {},
   "outputs": [],
   "source": [
    "pd.to_pickle(cust_final_data, PICKLE_TRAIN_DIR)\n",
    "pd.to_pickle(cust_pay, PICKLE_HISTORY_DIR)"
   ]
  },
  {
   "cell_type": "markdown",
   "metadata": {},
   "source": [
    "FEATURE ENGINEERING"
   ]
  },
  {
   "cell_type": "code",
   "execution_count": null,
   "metadata": {},
   "outputs": [],
   "source": []
  }
 ],
 "metadata": {
  "kernelspec": {
   "display_name": "Python 3",
   "language": "python",
   "name": "python3"
  },
  "language_info": {
   "codemirror_mode": {
    "name": "ipython",
    "version": 3
   },
   "file_extension": ".py",
   "mimetype": "text/x-python",
   "name": "python",
   "nbconvert_exporter": "python",
   "pygments_lexer": "ipython3",
   "version": "3.7.6"
  }
 },
 "nbformat": 4,
 "nbformat_minor": 4
}
